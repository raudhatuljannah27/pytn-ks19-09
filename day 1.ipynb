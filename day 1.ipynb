{
 "cells": [
  {
   "cell_type": "code",
   "execution_count": 1,
   "id": "d6195d70-7e85-4032-a224-e8951b359b89",
   "metadata": {},
   "outputs": [
    {
     "name": "stdout",
     "output_type": "stream",
     "text": [
      "10\n",
      "100\n"
     ]
    }
   ],
   "source": [
    "print(10)\n",
    "print(100)"
   ]
  },
  {
   "cell_type": "code",
   "execution_count": 2,
   "id": "0ebe7547-daa7-43c9-9983-77a26a2272c2",
   "metadata": {},
   "outputs": [
    {
     "name": "stdout",
     "output_type": "stream",
     "text": [
      "0.00042\n",
      "<class 'float'>\n"
     ]
    }
   ],
   "source": [
    "print(4.2E-4)\n",
    "print(type(4.2E-4))"
   ]
  },
  {
   "cell_type": "code",
   "execution_count": 3,
   "id": "6968b32d-3ffa-4230-92fb-a1dc4b202216",
   "metadata": {},
   "outputs": [
    {
     "data": {
      "text/plain": [
       "'Hello world'"
      ]
     },
     "metadata": {},
     "output_type": "display_data"
    },
    {
     "name": "stdout",
     "output_type": "stream",
     "text": [
      "Hello world\n",
      "<class 'str'>\n",
      "\"Hello world\"\n",
      "Can't\n",
      "\"She\" knows\n",
      " \"She\" knows she can't do it\" \n",
      "\n"
     ]
    }
   ],
   "source": [
    "display(\"Hello world\")\n",
    "print('Hello world')\n",
    "print(type(\"apa\"))\n",
    "print('\"Hello world\"')\n",
    "print(\"Can't\")\n",
    "print('\"She\" knows')\n",
    "print(''' \"She\" knows she can't do it\" ''')\n",
    "print('')"
   ]
  },
  {
   "cell_type": "code",
   "execution_count": 4,
   "id": "2602daf8-d3dd-4cb2-8a23-1139e5aee1d8",
   "metadata": {},
   "outputs": [
    {
     "name": "stdout",
     "output_type": "stream",
     "text": [
      "True\n",
      "False\n",
      "1\n",
      "2\n",
      "0\n"
     ]
    }
   ],
   "source": [
    "print(True)\n",
    "print(False)\n",
    "\n",
    "print(True + False)\n",
    "print(True + True)\n",
    "print(False + False)"
   ]
  },
  {
   "cell_type": "code",
   "execution_count": 5,
   "id": "5488aa65-0a92-46ed-88bf-9d98f1698299",
   "metadata": {},
   "outputs": [
    {
     "name": "stdout",
     "output_type": "stream",
     "text": [
      "b\n"
     ]
    },
    {
     "data": {
      "text/plain": [
       "500"
      ]
     },
     "execution_count": 5,
     "metadata": {},
     "output_type": "execute_result"
    }
   ],
   "source": [
    "a = 'b'\n",
    "print(a)\n",
    "\n",
    "a = 500\n",
    "a"
   ]
  },
  {
   "cell_type": "code",
   "execution_count": 6,
   "id": "6238e115-58a3-42ae-9245-8a4de2d30ac1",
   "metadata": {},
   "outputs": [
    {
     "name": "stdout",
     "output_type": "stream",
     "text": [
      "10\n",
      "10\n",
      "10\n",
      "1\n",
      "2\n",
      "a\n"
     ]
    }
   ],
   "source": [
    "q = w = e = 10\n",
    "print(q)\n",
    "print(w)\n",
    "print(e)\n",
    "\n",
    "z, x, y = 1, 2, 'a'\n",
    "print(z)\n",
    "print(x)\n",
    "print(y)"
   ]
  },
  {
   "cell_type": "code",
   "execution_count": 7,
   "id": "dfb9462e-9e24-4d2c-8090-2170a66ba329",
   "metadata": {},
   "outputs": [
    {
     "data": {
      "text/plain": [
       "'dor'"
      ]
     },
     "execution_count": 7,
     "metadata": {},
     "output_type": "execute_result"
    }
   ],
   "source": [
    "age = 25\n",
    "_shot1 =  'dor'\n",
    "_shot1"
   ]
  },
  {
   "cell_type": "code",
   "execution_count": 9,
   "id": "0dd80dfd-8e51-4ceb-8900-4dbb81617ce4",
   "metadata": {},
   "outputs": [
    {
     "name": "stdout",
     "output_type": "stream",
     "text": [
      "7\n",
      "3\n",
      "10\n",
      "2.5\n",
      "2\n",
      "25\n",
      "1\n",
      "17\n"
     ]
    }
   ],
   "source": [
    "a = 5 \n",
    "b = 2\n",
    "print(a + b) # penjumlahan\n",
    "print(a - b) # pengurangan \n",
    "print(a * b) # perkalian\n",
    "print(a / b) # pembagian desimal\n",
    "print(a // b) # pembagian integer\n",
    "print(a ** b) # pangkat\n",
    "print(a % b) # modulo\n",
    "\n",
    "print(a + b + 10)"
   ]
  },
  {
   "cell_type": "code",
   "execution_count": 11,
   "id": "75b6d920-5182-4129-8148-eeb08ec89f06",
   "metadata": {},
   "outputs": [
    {
     "name": "stdout",
     "output_type": "stream",
     "text": [
      "False\n",
      "False\n",
      "True\n",
      "True\n",
      "True\n",
      "True\n",
      "False\n"
     ]
    }
   ],
   "source": [
    "a = 5\n",
    "b = 2\n",
    "c = 2\n",
    "print(a == b)\n",
    "print(a == b) #sama dengan\n",
    "print(a != b) #tidak sama dengan\n",
    "print(a > b) #besar dari\n",
    "print(a >= b) #besar dari sama dengan\n",
    "print(b < a) #kecil dari\n",
    "print(a <= b) #kecil dari sama dengan"
   ]
  },
  {
   "cell_type": "code",
   "execution_count": 18,
   "id": "706b2355-26e2-49d7-bd47-cd45afe125eb",
   "metadata": {},
   "outputs": [
    {
     "name": "stdout",
     "output_type": "stream",
     "text": [
      "python\n",
      "Hactive8\n",
      "pypypypypy\n",
      "True\n",
      "False\n"
     ]
    }
   ],
   "source": [
    "q = 'py'\n",
    "w = 'thon'\n",
    "print(q + w)\n",
    "print('Hactive' + '8')\n",
    "print(q * a)\n",
    "print(q in 'python')\n",
    "print(w in 'pyton')"
   ]
  },
  {
   "cell_type": "code",
   "execution_count": 19,
   "id": "1b8a3f46-357d-4b10-ad42-6b3bcf2433a8",
   "metadata": {},
   "outputs": [
    {
     "name": "stdout",
     "output_type": "stream",
     "text": [
      "HACTIVE KAMPUS\n",
      "hactive kampus\n",
      "Hactive kampus\n",
      "HActIVe kAMPUs\n",
      "Hactive Kampus\n"
     ]
    }
   ],
   "source": [
    "h = 'haCTivE KampuS'\n",
    "print(h.upper())\n",
    "print(h.lower())\n",
    "print(h.capitalize())\n",
    "print(h.swapcase())\n",
    "print(h.title())\n"
   ]
  },
  {
   "cell_type": "code",
   "execution_count": 20,
   "id": "6f828600-9b95-4642-a425-28ecbf8db8e7",
   "metadata": {},
   "outputs": [],
   "source": [
    "#index ke 0 1 2 3 4 5 6 7 8 9 10\n",
    "daftar = [1, 2, 43, 'a', True, ['b', 300, False], 4.6, 1+1, a, q, w]\n",
    "# index minus\n",
    "py = ['python', 'KS19', 'asoyyy']\n",
    "# py = [12, 2, 10]"
   ]
  },
  {
   "cell_type": "code",
   "execution_count": 21,
   "id": "0a98326a-736e-4f96-9022-487723b1060b",
   "metadata": {},
   "outputs": [
    {
     "name": "stdout",
     "output_type": "stream",
     "text": [
      "[1, 2, 43, 'a', True, ['b', 300, False], 4.6, 2, 5, 'py', 'thon', 'python', 'KS19', 'asoyyy']\n",
      "['python', 'KS19', 'asoyyy', 'python', 'KS19', 'asoyyy', 'python', 'KS19', 'asoyyy']\n",
      "11\n",
      "python\n",
      "KS19\n"
     ]
    }
   ],
   "source": [
    "# print(type(daftar))\n",
    "# print(daftar)\n",
    "# print(daftar[3])\n",
    "# print(daftar[5])\n",
    "# print(daftar[7])\n",
    "# print(daftar[-3])\n",
    "# print(daftar[1:6])\n",
    "print(daftar + py)\n",
    "print(py * 3)\n",
    "print(len(daftar))\n",
    "print(max(py))\n",
    "print(min(py))"
   ]
  },
  {
   "cell_type": "code",
   "execution_count": 22,
   "id": "5bea9e49-2bb5-4735-8eab-3e22728096fe",
   "metadata": {},
   "outputs": [
    {
     "name": "stdout",
     "output_type": "stream",
     "text": [
      "[1, 2, 43, 'a', True, ['b', 300, False], 4.6, 2, ['Python', 'KS19', 'asoyyy'], 'py', 'thon']\n",
      "[1, 2, 43, 'a', True, ['b', 300, False], 4.6, 2, ['Python', 'KS19', 'asoyyy'], 'udah malem', 'thon']\n",
      "[1, 2, 43, 'a', True, ['b', 300, False], 4.6, 2, ['Python', 'KS19', 'asoyyy'], 'udah malem', 'thon']\n",
      "[1.5, 'a', True, ['b', 300, False], 4.6, 2, ['Python', 'KS19', 'asoyyy'], 'udah malem', 'thon']\n"
     ]
    }
   ],
   "source": [
    "#index ke 0  1  2    3    4           5            6    7   8  9  10\n",
    "daftar = [1, 2, 43, 'a', True, ['b', 300, False], 4.6, 1+1, a, q, w]\n",
    "# index minus                                               -3 -2 -1\n",
    "py = ['Python', 'KS19', 'asoyyy']\n",
    "\n",
    "daftar[8] = py\n",
    "print(daftar)\n",
    "daftar[-2] = 'udah malem'\n",
    "print(daftar)\n",
    "# del daftar[3]\n",
    "print(daftar)\n",
    "daftar[:3] = [1.5]\n",
    "print(daftar)"
   ]
  },
  {
   "cell_type": "code",
   "execution_count": 23,
   "id": "a06a7e0d-6084-4994-ba01-aa06a76e0f8c",
   "metadata": {},
   "outputs": [
    {
     "name": "stdout",
     "output_type": "stream",
     "text": [
      "(1, 2, 43, 'a', True, ['b', 300, False], 4.6, 2, 5, 'py', 'thon')\n",
      "(2, 43, 'a', True)\n"
     ]
    }
   ],
   "source": [
    "tapel = (1, 2, 43, 'a', True, ['b', 300, False], 4.6, 1+1, a, q, w)\n",
    "print(tapel)\n",
    "print(tapel[1:5])"
   ]
  },
  {
   "cell_type": "code",
   "execution_count": 24,
   "id": "486019a0-aa4f-43bf-91b9-463791e3041d",
   "metadata": {},
   "outputs": [],
   "source": [
    "(z, x, y) = (1, 2, 'a')"
   ]
  },
  {
   "cell_type": "code",
   "execution_count": 25,
   "id": "0811cf8b-d31a-4044-a089-a056bb951e31",
   "metadata": {},
   "outputs": [
    {
     "data": {
      "text/plain": [
       "str"
      ]
     },
     "execution_count": 25,
     "metadata": {},
     "output_type": "execute_result"
    }
   ],
   "source": [
    "type(y)"
   ]
  },
  {
   "cell_type": "code",
   "execution_count": 26,
   "id": "b14e57bc-34e3-428b-9417-d885dccb4714",
   "metadata": {},
   "outputs": [
    {
     "name": "stdout",
     "output_type": "stream",
     "text": [
      "<class 'dict'>\n",
      "what\n",
      "{'apa': 'what', 'siapa': 'who', 'bagaimana': 'how', 'kapan': 'when'}\n",
      "{'siapa': 'who', 'bagaimana': 'how', 'kapan': 'when'}\n",
      "{'siapa': 'who', 'bagaimana': 'how', 'kapan': 'when'}\n"
     ]
    }
   ],
   "source": [
    "kamus = {\n",
    "    'apa':'what', 'siapa':'who', 'bagaimana':'how'\n",
    "}\n",
    "print(type(kamus))\n",
    "print(kamus['apa'])\n",
    "kamus['kapan'] = 'when'\n",
    "print(kamus)\n",
    "del kamus['apa']\n",
    "print(kamus)\n",
    "# kamus.clear()\n",
    "print(kamus)"
   ]
  },
  {
   "cell_type": "code",
   "execution_count": 27,
   "id": "31ea4f84-5674-4a1e-b0b4-b75202138a12",
   "metadata": {},
   "outputs": [
    {
     "name": "stdout",
     "output_type": "stream",
     "text": [
      "{'kota': ['madagascar'], 'jalan': 'situ baru', 'nomor rumah': 10, 'pohon': ['cendana', 'mahoni', 'beringin'], 'akses': {'KRL': 'bisa', 'TJ': {'bisa': 'tapi susah'}, 'ojol': 'tidak'}}\n",
      "mahoni\n",
      "tapi susah\n",
      "dict_items([('kota', ['madagascar']), ('jalan', 'situ baru'), ('nomor rumah', 10), ('pohon', ['cendana', 'mahoni', 'beringin']), ('akses', {'KRL': 'bisa', 'TJ': {'bisa': 'tapi susah'}, 'ojol': 'tidak'})])\n",
      "\n",
      "dict_values([['madagascar'], 'situ baru', 10, ['cendana', 'mahoni', 'beringin'], {'KRL': 'bisa', 'TJ': {'bisa': 'tapi susah'}, 'ojol': 'tidak'}])\n",
      "\n",
      "dict_keys(['kota', 'jalan', 'nomor rumah', 'pohon', 'akses'])\n"
     ]
    }
   ],
   "source": [
    "alamat = {}\n",
    "\n",
    "alamat['kota'] = ['madagascar'] \n",
    "alamat['jalan'] = 'situ baru'\n",
    "alamat['nomor rumah'] = 10\n",
    "alamat['pohon'] = ['cendana', 'mahoni', 'beringin']\n",
    "alamat['akses'] = {'KRL':'bisa', 'TJ':{'bisa':'tapi susah'}, 'ojol':'tidak'}\n",
    "\n",
    "print(alamat)\n",
    "print(alamat['pohon'][1])\n",
    "print(alamat['akses']['TJ']['bisa'])\n",
    "print(alamat.items())\n",
    "print()\n",
    "print(alamat.values())\n",
    "print()\n",
    "print(alamat.keys())"
   ]
  },
  {
   "cell_type": "code",
   "execution_count": 28,
   "id": "137a9789-3481-4ecd-819b-8d373d6532eb",
   "metadata": {},
   "outputs": [
    {
     "data": {
      "text/plain": [
       "True"
      ]
     },
     "execution_count": 28,
     "metadata": {},
     "output_type": "execute_result"
    }
   ],
   "source": [
    "a = 10\n",
    "b = 2\n",
    "c = 10\n",
    "\n",
    "d = (\n",
    "    a == c\n",
    "    or c==a\n",
    "    or a == b\n",
    ")\n",
    "d"
   ]
  },
  {
   "cell_type": "code",
   "execution_count": 29,
   "id": "6f957b46-fb66-4f84-942a-f085bf142721",
   "metadata": {},
   "outputs": [
    {
     "data": {
      "text/plain": [
       "'ini tambahan update git'"
      ]
     },
     "execution_count": 29,
     "metadata": {},
     "output_type": "execute_result"
    }
   ],
   "source": [
    "'ini tambahan update git'"
   ]
  },
  {
   "cell_type": "code",
   "execution_count": null,
   "id": "4ab3ee72-0ae8-4db9-ab6e-e1333e3b3cf3",
   "metadata": {},
   "outputs": [],
   "source": []
  }
 ],
 "metadata": {
  "kernelspec": {
   "display_name": "Python 3 (ipykernel)",
   "language": "python",
   "name": "python3"
  },
  "language_info": {
   "codemirror_mode": {
    "name": "ipython",
    "version": 3
   },
   "file_extension": ".py",
   "mimetype": "text/x-python",
   "name": "python",
   "nbconvert_exporter": "python",
   "pygments_lexer": "ipython3",
   "version": "3.11.5"
  }
 },
 "nbformat": 4,
 "nbformat_minor": 5
}
