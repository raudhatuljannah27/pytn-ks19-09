{
 "cells": [
  {
   "cell_type": "code",
   "execution_count": 11,
   "id": "0fa2d7a8-1f03-45f0-8c97-0cde87ba2ea7",
   "metadata": {},
   "outputs": [],
   "source": [
    "def halo(b, v):\n",
    "    '''function ini akan menyapa kamu\n",
    "    ntah itu siapa, tinggal memesukkan\n",
    "    nama lalu kondisi\n",
    "    '''\n",
    "    a = f'halo {b} yang {v}'\n",
    "    return a\n"
   ]
  },
  {
   "cell_type": "code",
   "execution_count": 12,
   "id": "d9bb9621-fe69-4594-924a-b88eb8981429",
   "metadata": {},
   "outputs": [
    {
     "data": {
      "text/plain": [
       "'halo sedang berbahagia yang putra'"
      ]
     },
     "execution_count": 12,
     "metadata": {},
     "output_type": "execute_result"
    }
   ],
   "source": [
    "halo('sedang berbahagia','putra')"
   ]
  },
  {
   "cell_type": "code",
   "execution_count": 4,
   "id": "58618bdf-cb0e-43e9-bc73-0c3aea99bb67",
   "metadata": {},
   "outputs": [
    {
     "name": "stdout",
     "output_type": "stream",
     "text": [
      "halo\n",
      "33\n"
     ]
    }
   ],
   "source": [
    "def printme(str, angka = 9):\n",
    "    print(str)\n",
    "    print(angka * 3)\n",
    "    return\n",
    "\n",
    "printme(angka = 11, str = 'halo')"
   ]
  },
  {
   "cell_type": "code",
   "execution_count": 5,
   "id": "cdac49ec-3758-4ff3-9677-32b305b938b9",
   "metadata": {},
   "outputs": [
    {
     "name": "stdout",
     "output_type": "stream",
     "text": [
      "penjumlahan dari 2 dan 2 adalah 4\n",
      "None\n"
     ]
    }
   ],
   "source": [
    "def jumlah(n1, n2):\n",
    "    print(f\"penjumlahan dari {n1} dan {n2} adalah {n1 + n2}\")\n",
    "    # return n1 + n2\n",
    "\n",
    "print(jumlah(2,2))\n",
    "\n",
    "a = lambda n1, n2: n1 + n2\n",
    "# print(a)"
   ]
  },
  {
   "cell_type": "code",
   "execution_count": 7,
   "id": "06d003e5-8a24-4bd2-895c-0b8f5067ebd6",
   "metadata": {},
   "outputs": [
    {
     "name": "stdout",
     "output_type": "stream",
     "text": [
      "variabel total di dalam function: 30\n",
      "variabel total di luar function: 0\n"
     ]
    }
   ],
   "source": [
    "total= 0\n",
    "def jumlah(arg1, arg2):\n",
    "\n",
    "    total = arg1 + arg2\n",
    "    print(\"variabel total di dalam function:\", total)\n",
    "    return total\n",
    "\n",
    "jumlah(10,20)\n",
    "print(\"variabel total di luar function:\", total)"
   ]
  },
  {
   "cell_type": "code",
   "execution_count": 13,
   "id": "72367e25-0be4-4766-9faf-b696b3584931",
   "metadata": {},
   "outputs": [
    {
     "name": "stdout",
     "output_type": "stream",
     "text": [
      "80\n",
      "50\n"
     ]
    }
   ],
   "source": [
    "jumlahKucing = 50\n",
    "\n",
    "def jumlahHewan():\n",
    "    jumlahAnjing = 30\n",
    "    return jumlahAnjing + jumlahKucing\n",
    "\n",
    "print(jumlahHewan())\n",
    "print(jumlahKucing)"
   ]
  },
  {
   "cell_type": "code",
   "execution_count": 49,
   "id": "e1aa0445-3eca-4462-b710-98d005c5a208",
   "metadata": {},
   "outputs": [
    {
     "name": "stdout",
     "output_type": "stream",
     "text": [
      "hactive8 python\n",
      "[100, 200, 300]\n",
      "arg = [1, 2, 3]\n"
     ]
    }
   ],
   "source": [
    "import mod\n",
    "\n",
    "# Mengakses variabel dan fungsi dari modul\n",
    "print(mod.s)\n",
    "print(mod.a)\n",
    "mod.foo([1, 2, 3])\n",
    "\n",
    "# Menggunakan kelas dari modul\n",
    "obj = mod.Foo()"
   ]
  },
  {
   "cell_type": "code",
   "execution_count": 25,
   "id": "590251e1-ebdf-477c-a2e4-1778eb8718b3",
   "metadata": {},
   "outputs": [],
   "source": [
    "s = 10"
   ]
  },
  {
   "cell_type": "code",
   "execution_count": 50,
   "id": "de1c1ab7-fefc-467d-8ae2-a5ac867d38be",
   "metadata": {},
   "outputs": [
    {
     "name": "stdout",
     "output_type": "stream",
     "text": [
      "10\n",
      "hactive8 python\n"
     ]
    }
   ],
   "source": [
    "from mod import s as stri\n",
    "print(s)\n",
    "print(stri)"
   ]
  },
  {
   "cell_type": "code",
   "execution_count": 28,
   "id": "586154d6-6b47-4c53-92fb-b7592ba5ad81",
   "metadata": {
    "scrolled": true
   },
   "outputs": [],
   "source": [
    "import pandas as pd\n",
    "import numpy as np\n",
    "import matplotlib.pyplot as plt"
   ]
  },
  {
   "cell_type": "code",
   "execution_count": 51,
   "id": "dd5e99c2-ea75-4cac-b074-06b85977775d",
   "metadata": {},
   "outputs": [
    {
     "name": "stdout",
     "output_type": "stream",
     "text": [
      "[100, 200, 300]\n"
     ]
    }
   ],
   "source": [
    "def coba():\n",
    "    from mod import a\n",
    "    print (a)\n",
    "\n",
    "coba()"
   ]
  },
  {
   "cell_type": "code",
   "execution_count": 52,
   "id": "694d7f67-eb44-4ff4-9b4a-cee2c599c7da",
   "metadata": {},
   "outputs": [
    {
     "name": "stdout",
     "output_type": "stream",
     "text": [
      "module not found\n"
     ]
    }
   ],
   "source": [
    "try:\n",
    "    from mod import b\n",
    "except ImportError:\n",
    "    print('module not found')"
   ]
  },
  {
   "cell_type": "code",
   "execution_count": 53,
   "id": "012571a6-4b2f-4809-8348-f9ddff1cfe31",
   "metadata": {},
   "outputs": [
    {
     "data": {
      "text/plain": [
       "'hactive8 python'"
      ]
     },
     "execution_count": 53,
     "metadata": {},
     "output_type": "execute_result"
    }
   ],
   "source": [
    "mod.s"
   ]
  },
  {
   "cell_type": "code",
   "execution_count": 54,
   "id": "36011692-27f3-4b7f-896c-55825883bbd7",
   "metadata": {},
   "outputs": [
    {
     "ename": "ImportError",
     "evalue": "cannot import name 'b' from 'mod' (C:\\Users\\ASUS\\A.TUGAS KELAS PYTHON\\tugas 1\\mod.py)",
     "output_type": "error",
     "traceback": [
      "\u001b[1;31m---------------------------------------------------------------------------\u001b[0m",
      "\u001b[1;31mImportError\u001b[0m                               Traceback (most recent call last)",
      "Cell \u001b[1;32mIn[54], line 1\u001b[0m\n\u001b[1;32m----> 1\u001b[0m \u001b[38;5;28;01mfrom\u001b[39;00m \u001b[38;5;21;01mmod\u001b[39;00m \u001b[38;5;28;01mimport\u001b[39;00m b\n",
      "\u001b[1;31mImportError\u001b[0m: cannot import name 'b' from 'mod' (C:\\Users\\ASUS\\A.TUGAS KELAS PYTHON\\tugas 1\\mod.py)"
     ]
    }
   ],
   "source": [
    "from mod import b"
   ]
  },
  {
   "cell_type": "code",
   "execution_count": 38,
   "id": "08699d2e-3967-4c99-95c7-c0a781b91af5",
   "metadata": {},
   "outputs": [
    {
     "data": {
      "text/plain": [
       "['In',\n",
       " 'Out',\n",
       " '_',\n",
       " '_34',\n",
       " '__',\n",
       " '___',\n",
       " '__builtin__',\n",
       " '__builtins__',\n",
       " '__doc__',\n",
       " '__loader__',\n",
       " '__name__',\n",
       " '__package__',\n",
       " '__session__',\n",
       " '__spec__',\n",
       " '_dh',\n",
       " '_i',\n",
       " '_i1',\n",
       " '_i10',\n",
       " '_i11',\n",
       " '_i12',\n",
       " '_i13',\n",
       " '_i14',\n",
       " '_i15',\n",
       " '_i16',\n",
       " '_i17',\n",
       " '_i18',\n",
       " '_i19',\n",
       " '_i2',\n",
       " '_i20',\n",
       " '_i21',\n",
       " '_i22',\n",
       " '_i23',\n",
       " '_i24',\n",
       " '_i25',\n",
       " '_i26',\n",
       " '_i27',\n",
       " '_i28',\n",
       " '_i29',\n",
       " '_i3',\n",
       " '_i30',\n",
       " '_i31',\n",
       " '_i32',\n",
       " '_i33',\n",
       " '_i34',\n",
       " '_i35',\n",
       " '_i36',\n",
       " '_i37',\n",
       " '_i38',\n",
       " '_i4',\n",
       " '_i5',\n",
       " '_i6',\n",
       " '_i7',\n",
       " '_i8',\n",
       " '_i9',\n",
       " '_ih',\n",
       " '_ii',\n",
       " '_iii',\n",
       " '_oh',\n",
       " 'a',\n",
       " 'coba',\n",
       " 'exit',\n",
       " 'get_ipython',\n",
       " 'hack',\n",
       " 'm',\n",
       " 'md',\n",
       " 'modul',\n",
       " 'np',\n",
       " 'obj',\n",
       " 'open',\n",
       " 'pd',\n",
       " 'plt',\n",
       " 'quit',\n",
       " 's',\n",
       " 'stri',\n",
       " 'sys']"
      ]
     },
     "execution_count": 38,
     "metadata": {},
     "output_type": "execute_result"
    }
   ],
   "source": [
    "hack = 8\n",
    "dir()"
   ]
  },
  {
   "cell_type": "code",
   "execution_count": 40,
   "id": "01c4bc65-4c2c-47fe-b4ab-6940b49969a3",
   "metadata": {},
   "outputs": [],
   "source": [
    "import pandas\n",
    "import numpy\n",
    "import seaborn"
   ]
  },
  {
   "cell_type": "code",
   "execution_count": 41,
   "id": "3ab2d290-6cf7-447c-bfb7-b427b7ff931e",
   "metadata": {},
   "outputs": [
    {
     "data": {
      "text/plain": [
       "['In',\n",
       " 'Out',\n",
       " '_',\n",
       " '_34',\n",
       " '_38',\n",
       " '__',\n",
       " '___',\n",
       " '__builtin__',\n",
       " '__builtins__',\n",
       " '__doc__',\n",
       " '__loader__',\n",
       " '__name__',\n",
       " '__package__',\n",
       " '__session__',\n",
       " '__spec__',\n",
       " '_dh',\n",
       " '_i',\n",
       " '_i1',\n",
       " '_i10',\n",
       " '_i11',\n",
       " '_i12',\n",
       " '_i13',\n",
       " '_i14',\n",
       " '_i15',\n",
       " '_i16',\n",
       " '_i17',\n",
       " '_i18',\n",
       " '_i19',\n",
       " '_i2',\n",
       " '_i20',\n",
       " '_i21',\n",
       " '_i22',\n",
       " '_i23',\n",
       " '_i24',\n",
       " '_i25',\n",
       " '_i26',\n",
       " '_i27',\n",
       " '_i28',\n",
       " '_i29',\n",
       " '_i3',\n",
       " '_i30',\n",
       " '_i31',\n",
       " '_i32',\n",
       " '_i33',\n",
       " '_i34',\n",
       " '_i35',\n",
       " '_i36',\n",
       " '_i37',\n",
       " '_i38',\n",
       " '_i39',\n",
       " '_i4',\n",
       " '_i40',\n",
       " '_i41',\n",
       " '_i5',\n",
       " '_i6',\n",
       " '_i7',\n",
       " '_i8',\n",
       " '_i9',\n",
       " '_ih',\n",
       " '_ii',\n",
       " '_iii',\n",
       " '_oh',\n",
       " 'a',\n",
       " 'coba',\n",
       " 'exit',\n",
       " 'get_ipython',\n",
       " 'hack',\n",
       " 'm',\n",
       " 'md',\n",
       " 'modul',\n",
       " 'np',\n",
       " 'numpy',\n",
       " 'obj',\n",
       " 'open',\n",
       " 'pandas',\n",
       " 'pd',\n",
       " 'plt',\n",
       " 'quit',\n",
       " 's',\n",
       " 'seaborn',\n",
       " 'stri',\n",
       " 'sys']"
      ]
     },
     "execution_count": 41,
     "metadata": {},
     "output_type": "execute_result"
    }
   ],
   "source": [
    "dir()"
   ]
  },
  {
   "cell_type": "code",
   "execution_count": 55,
   "id": "7ee57339-8463-4fd4-9cfa-5a6c37eadad7",
   "metadata": {},
   "outputs": [],
   "source": [
    "import mod"
   ]
  },
  {
   "cell_type": "code",
   "execution_count": 58,
   "id": "3be97dfa-6685-4d0d-afc9-9001049ed0d1",
   "metadata": {},
   "outputs": [],
   "source": [
    "import pkg.mod1"
   ]
  },
  {
   "cell_type": "code",
   "execution_count": 62,
   "id": "bd3bd78d-28de-46d7-8d18-25f3b2e19c76",
   "metadata": {},
   "outputs": [],
   "source": [
    "def s():\n",
    "    return \"hactive8 python\""
   ]
  },
  {
   "cell_type": "code",
   "execution_count": 65,
   "id": "ce937dcd-0a10-4850-8546-dc538d613bd3",
   "metadata": {},
   "outputs": [
    {
     "data": {
      "text/plain": [
       "'hactive8 python'"
      ]
     },
     "execution_count": 65,
     "metadata": {},
     "output_type": "execute_result"
    }
   ],
   "source": [
    "pkg.mod1.s"
   ]
  },
  {
   "cell_type": "code",
   "execution_count": null,
   "id": "71e76a9f-fd92-4116-a9e4-96fe14babc75",
   "metadata": {},
   "outputs": [],
   "source": []
  }
 ],
 "metadata": {
  "kernelspec": {
   "display_name": "Python 3 (ipykernel)",
   "language": "python",
   "name": "python3"
  },
  "language_info": {
   "codemirror_mode": {
    "name": "ipython",
    "version": 3
   },
   "file_extension": ".py",
   "mimetype": "text/x-python",
   "name": "python",
   "nbconvert_exporter": "python",
   "pygments_lexer": "ipython3",
   "version": "3.11.5"
  }
 },
 "nbformat": 4,
 "nbformat_minor": 5
}
