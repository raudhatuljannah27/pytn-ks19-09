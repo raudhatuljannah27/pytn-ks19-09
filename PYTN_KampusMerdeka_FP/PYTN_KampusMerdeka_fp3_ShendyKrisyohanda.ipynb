{
 "cells": [
  {
   "cell_type": "markdown",
   "metadata": {
    "id": "Pxn0bP44UAWD",
    "jp-MarkdownHeadingCollapsed": true
   },
   "source": [
    "# Raudhatul Jannah\n",
    "# PYTN-KS19-09\n",
    "# Python for Data Science by Hacktiv8\n",
    "# **Final Projects 3**"
   ]
  },
  {
   "cell_type": "markdown",
   "metadata": {
    "id": "xfRCgy60rkCE"
   },
   "source": [
    "# Pengenalan\n",
    "\n",
    "Penyakit kardiovaskular (CVDs) adalah penyebab kematian nomor 1 secara global, mengambil sekitar 17,9 juta jiwa setiap tahun, yang menyumbang 31% dari semua kematian di seluruh dunia.\n",
    "Gagal jantung adalah kejadian umum yang disebabkan oleh CVD dan kumpulan data ini berisi 12 fitur yang dapat digunakan untuk memprediksi kematian akibat gagal jantung.\n",
    "\n",
    "Sebagian besar penyakit kardiovaskular dapat dicegah dengan mengatasi faktor risiko perilaku seperti penggunaan tembakau, diet tidak sehat dan obesitas, kurangnya aktivitas fisik, dan penggunaan alkohol yang berbahaya menggunakan strategi di seluruh populasi.\n",
    "\n",
    "Orang dengan penyakit kardiovaskular atau yang berada pada risiko kardiovaskular tinggi (karena adanya satu atau lebih faktor risiko seperti hipertensi, diabetes, hiperlipidemia atau penyakit yang sudah ada) memerlukan deteksi dan manajemen dini di mana model pembelajaran mesin dapat sangat membantu.\n",
    "\n",
    "\n",
    "**Attribute Information:**\n",
    "1. age - umur pasien\n",
    "2. anaemia - apakah ada pengurangan haemoglobin\n",
    "3. creatinine_phosphokinase - level enzim CPK dalam mcg/L\n",
    "4. diabetes - apakah pasien punya riwayat diabetes\n",
    "5. ejection_fraction - persentase darah yang meninggalkan jantung dalam persentasi\n",
    "di setiap kontraksi jantung\n",
    "6. high_blood_pressure - apakah pasien punya darah tinggi\n",
    "7. platelets - jumlah platelet di darah dalam kiloplatelets/mL\n",
    "8. serum_creatinine - level serum creatinine di darah dalam mg/dL\n",
    "9. serum_sodium - level serum sodium di darah dalam mEq/L\n",
    "10. sex - apakah pasien pria atau wanita\n",
    "11. smoking - apakah pasien merokok\n",
    "12. time - waktu dalam hari untuk follow-up\n",
    "13. DEATH_EVENT - apakah pasien sudah meninggal saat waktu follow-up\n",
    "\n",
    "\n",
    "TARGET : DEATH_EVENT\n"
   ]
  },
  {
   "cell_type": "markdown",
   "metadata": {
    "id": "YNeWs4jCrnjZ"
   },
   "source": [
    "# Import Library"
   ]
  },
  {
   "cell_type": "code",
   "execution_count": 4,
   "metadata": {
    "id": "GIIKn78as085"
   },
   "outputs": [
    {
     "ename": "ModuleNotFoundError",
     "evalue": "No module named 'graphviz'",
     "output_type": "error",
     "traceback": [
      "\u001b[1;31m---------------------------------------------------------------------------\u001b[0m",
      "\u001b[1;31mModuleNotFoundError\u001b[0m                       Traceback (most recent call last)",
      "Cell \u001b[1;32mIn[4], line 17\u001b[0m\n\u001b[0;32m     15\u001b[0m \u001b[38;5;28;01mfrom\u001b[39;00m \u001b[38;5;21;01msklearn\u001b[39;00m\u001b[38;5;21;01m.\u001b[39;00m\u001b[38;5;21;01mensemble\u001b[39;00m \u001b[38;5;28;01mimport\u001b[39;00m GradientBoostingClassifier\n\u001b[0;32m     16\u001b[0m \u001b[38;5;28;01mfrom\u001b[39;00m \u001b[38;5;21;01msklearn\u001b[39;00m\u001b[38;5;21;01m.\u001b[39;00m\u001b[38;5;21;01mtree\u001b[39;00m \u001b[38;5;28;01mimport\u001b[39;00m DecisionTreeClassifier\n\u001b[1;32m---> 17\u001b[0m \u001b[38;5;28;01mimport\u001b[39;00m \u001b[38;5;21;01mgraphviz\u001b[39;00m \n\u001b[0;32m     18\u001b[0m \u001b[38;5;28;01mfrom\u001b[39;00m \u001b[38;5;21;01msklearn\u001b[39;00m\u001b[38;5;21;01m.\u001b[39;00m\u001b[38;5;21;01mlinear_model\u001b[39;00m \u001b[38;5;28;01mimport\u001b[39;00m LogisticRegression\n\u001b[0;32m     19\u001b[0m \u001b[38;5;28;01mfrom\u001b[39;00m \u001b[38;5;21;01msklearn\u001b[39;00m\u001b[38;5;21;01m.\u001b[39;00m\u001b[38;5;21;01msvm\u001b[39;00m \u001b[38;5;28;01mimport\u001b[39;00m SVC\n",
      "\u001b[1;31mModuleNotFoundError\u001b[0m: No module named 'graphviz'"
     ]
    }
   ],
   "source": [
    "import numpy as np \n",
    "import pandas as pd\n",
    "import matplotlib.pyplot as plt\n",
    "%matplotlib inline\n",
    "import warnings\n",
    "warnings.filterwarnings(\"ignore\")\n",
    "import seaborn as sns\n",
    "from sklearn.preprocessing import StandardScaler\n",
    "from sklearn.model_selection import train_test_split\n",
    "from sklearn.ensemble import RandomForestClassifier\n",
    "from sklearn.ensemble import VotingClassifier\n",
    "from sklearn.ensemble import AdaBoostClassifier\n",
    "from sklearn.ensemble import BaggingClassifier\n",
    "from sklearn.ensemble import ExtraTreesClassifier\n",
    "from sklearn.ensemble import GradientBoostingClassifier\n",
    "from sklearn.tree import DecisionTreeClassifier\n",
    "import graphviz \n",
    "from sklearn.linear_model import LogisticRegression\n",
    "from sklearn.svm import SVC\n",
    "from sklearn.tree import export_graphviz\n",
    "from sklearn.metrics import precision_score, recall_score, f1_score, accuracy_score\n",
    "from sklearn.metrics import confusion_matrix,classification_report\n",
    "import pickle\n",
    "from imblearn.over_sampling import SMOTE"
   ]
  },
  {
   "attachments": {},
   "cell_type": "markdown",
   "metadata": {
    "id": "ZJhDCkIvrpUJ"
   },
   "source": [
    "# Data Loading"
   ]
  },
  {
   "cell_type": "code",
   "execution_count": null,
   "metadata": {
    "colab": {
     "base_uri": "https://localhost:8080/",
     "height": 270
    },
    "id": "S_-w4_FzuOF5",
    "outputId": "5caa9c10-7619-496a-cfce-2adf4b97837b"
   },
   "outputs": [],
   "source": [
    "df = pd.read_csv('dataset/heart_failure_clinical_records_dataset.csv')\n",
    "df.head()"
   ]
  },
  {
   "cell_type": "code",
   "execution_count": null,
   "metadata": {
    "colab": {
     "base_uri": "https://localhost:8080/"
    },
    "id": "bnTEtCjZuUyq",
    "outputId": "0581df82-cfc0-476f-e4d2-1a2ff9a4a2fc"
   },
   "outputs": [],
   "source": [
    "df.info()"
   ]
  },
  {
   "cell_type": "markdown",
   "metadata": {
    "id": "knMvMq5glg-g"
   },
   "source": [
    "## Melihat deskripsi dataset"
   ]
  },
  {
   "cell_type": "code",
   "execution_count": null,
   "metadata": {
    "colab": {
     "base_uri": "https://localhost:8080/",
     "height": 364
    },
    "id": "7EBlXv57uV4x",
    "outputId": "2b479bd8-7802-4a31-fd65-facd920f45f2"
   },
   "outputs": [],
   "source": [
    "df.describe()"
   ]
  },
  {
   "cell_type": "markdown",
   "metadata": {
    "id": "f380vnCxpbR8"
   },
   "source": [
    "**Age**\n",
    "\n",
    "*   Rata-rata Usia pada Pasien Penyakit Jantung berkisar 60 Tahun\n",
    "*   Usia terendah pada Pasien Penyakit Jantung berada pada umur 40 Tahun\n",
    "*   Usia tertinggi pada Pasien Penyakit Jantung berada pada umur 95 Tahun\n",
    "\n",
    "**Anemia**\n",
    "\n",
    "* Rata-rata nilai Anemia pada Pasien Penyakit Jantung berada di 0.431438 \n",
    "\n",
    "* Anemia terendah pada Pasien Penyakit Jantung berada di 0 (**tidak mengalami anemia**)\n",
    "* Anemia tertinggi pada Pasien Penyakit Jantung berada di 1.0 (**mengalami anemia**)\n",
    "\n",
    "**Creatinin Fosfokinase**\n",
    "* Rata-rata Creatinin Fosfokinase pada Pasien Penyakit Jantung berada di 581.839465\n",
    "* Creatinin Fosfokinase terendah pada Pasien Penyakit Jantung berada di 23.00\n",
    "* Creatinin Fosfokinase tertinggi pada Pasien Penyakit Jantung berada di 7861.00\n",
    "\n",
    "**Diabetes**\n",
    "* Rata-rata nilai Diabetes pada Pasien Penyakit Jantung berada di 0.418060 \n",
    "\n",
    "* Diabetes terendah pada Pasien Penyakit Jantung berada di 0 (**tidak mengalami diabetes**)\n",
    "\n",
    "* Diabetes tertinggi pada Pasien Penyakit Jantung berada di 1.0 (**mengalami diabetes**)"
   ]
  },
  {
   "cell_type": "markdown",
   "metadata": {
    "id": "r83O7xU_lUD4"
   },
   "source": [
    "## Mengecek dataset apakah terdapat null"
   ]
  },
  {
   "cell_type": "code",
   "execution_count": null,
   "metadata": {
    "colab": {
     "base_uri": "https://localhost:8080/"
    },
    "id": "bsJrGtuRuXRa",
    "outputId": "0557dbdf-7f9f-46fe-c98d-d8dddeeb928e"
   },
   "outputs": [],
   "source": [
    "df.isnull().sum()"
   ]
  },
  {
   "cell_type": "markdown",
   "metadata": {
    "id": "H0tVi9hUlaC-"
   },
   "source": [
    "## Meliat dimensi dataset"
   ]
  },
  {
   "cell_type": "code",
   "execution_count": null,
   "metadata": {
    "colab": {
     "base_uri": "https://localhost:8080/"
    },
    "id": "D-wwaSJFua7R",
    "outputId": "30670812-fd3e-4e71-b436-19b64812bfaa"
   },
   "outputs": [],
   "source": [
    "df.shape"
   ]
  },
  {
   "cell_type": "markdown",
   "metadata": {
    "id": "fem0TXhmrrZ6"
   },
   "source": [
    "## Data Cleaning ##"
   ]
  },
  {
   "cell_type": "code",
   "execution_count": null,
   "metadata": {
    "colab": {
     "base_uri": "https://localhost:8080/",
     "height": 716
    },
    "id": "FR4_JwT78SX5",
    "outputId": "b1a48f38-380b-4c3c-ba44-0e98c6c6b43b"
   },
   "outputs": [],
   "source": [
    "plt.figure(figsize=(16,10))\n",
    "sns.heatmap(df.corr(), vmin=-1, vmax=1, annot=True)\n",
    "plt.savefig(\"korelasi_fitur.png\",\n",
    "            bbox_inches =\"tight\",\n",
    "            pad_inches = 1,\n",
    "            transparent = True,\n",
    "            orientation ='landscape')"
   ]
  },
  {
   "cell_type": "markdown",
   "metadata": {
    "id": "H1jlE15t_Xbe"
   },
   "source": [
    "drop fitur yang tidak relevan dengan DEATH_EVENT"
   ]
  },
  {
   "cell_type": "code",
   "execution_count": null,
   "metadata": {
    "id": "qg0FqXX9-TmE"
   },
   "outputs": [],
   "source": [
    "new_df = df.copy()\n",
    "new_df.drop(columns=['time','serum_sodium','ejection_fraction'], inplace=True)"
   ]
  },
  {
   "cell_type": "code",
   "execution_count": null,
   "metadata": {
    "colab": {
     "base_uri": "https://localhost:8080/",
     "height": 206
    },
    "id": "XWmbvAd_BI_1",
    "outputId": "8a48a4b9-6b07-41f6-9271-8ae2de76b4fc"
   },
   "outputs": [],
   "source": [
    "new_df.head()"
   ]
  },
  {
   "cell_type": "markdown",
   "metadata": {
    "id": "HI0SjOf3rsxR"
   },
   "source": [
    "# EDA"
   ]
  },
  {
   "cell_type": "code",
   "execution_count": null,
   "metadata": {
    "colab": {
     "base_uri": "https://localhost:8080/",
     "height": 488
    },
    "id": "DDOfl9WJlshF",
    "outputId": "1d557e17-68e3-494e-aeea-dced0f287ac0"
   },
   "outputs": [],
   "source": [
    "df_EDA = df.copy()\n",
    "df_EDA['young_person'] = df_EDA['age'].apply(lambda x: 1 if x < 50 else 0)\n",
    "df_EDA"
   ]
  },
  {
   "cell_type": "markdown",
   "metadata": {
    "id": "qLsfZiCahfKw"
   },
   "source": [
    "## Bar plot"
   ]
  },
  {
   "cell_type": "code",
   "execution_count": null,
   "metadata": {
    "colab": {
     "base_uri": "https://localhost:8080/",
     "height": 206
    },
    "id": "yERqqkDG7ExJ",
    "outputId": "70517e07-7dd9-44df-8cc3-e983a81631bf"
   },
   "outputs": [],
   "source": [
    "young_anemia_diabetes_hbp_sex_smoking = df_EDA[['young_person','anaemia','diabetes','high_blood_pressure','sex','smoking']]\n",
    "young_anemia_diabetes_hbp_sex_smoking.head()"
   ]
  },
  {
   "cell_type": "code",
   "execution_count": null,
   "metadata": {
    "colab": {
     "base_uri": "https://localhost:8080/",
     "height": 206
    },
    "id": "I59qk1P_DijK",
    "outputId": "c5a6daaf-1399-4bc4-f384-b3b33be159e9"
   },
   "outputs": [],
   "source": [
    "group1 = young_anemia_diabetes_hbp_sex_smoking.groupby(['young_person','sex']).sum()\n",
    "group1"
   ]
  },
  {
   "cell_type": "code",
   "execution_count": null,
   "metadata": {
    "colab": {
     "base_uri": "https://localhost:8080/",
     "height": 333
    },
    "id": "y7OVdiiaHlfs",
    "outputId": "d80cf731-619d-486c-a6c4-73c317ee8440"
   },
   "outputs": [],
   "source": [
    "plt.figure(figsize=(16,10))\n",
    "plt.style.use('ggplot')\n",
    "group1.plot(kind='bar',title='perbandingan penyakit yang diderita berdasarkan umur dan sex')\n",
    "plt.savefig(\"perbandingan_sex_umur.png\",\n",
    "            bbox_inches =\"tight\",\n",
    "            pad_inches = 1,\n",
    "            transparent = True,\n",
    "            orientation ='landscape')"
   ]
  },
  {
   "cell_type": "markdown",
   "metadata": {
    "id": "MqV8CLX8_OHk"
   },
   "source": [
    "## Scatter Plot"
   ]
  },
  {
   "cell_type": "code",
   "execution_count": null,
   "metadata": {
    "colab": {
     "base_uri": "https://localhost:8080/"
    },
    "id": "gVdp1sz8IjK-",
    "outputId": "8e7c912b-098d-49d6-b2e9-7c5fcacaa8f1"
   },
   "outputs": [],
   "source": [
    "np.unique(df_EDA['serum_creatinine'])"
   ]
  },
  {
   "cell_type": "code",
   "execution_count": null,
   "metadata": {
    "colab": {
     "base_uri": "https://localhost:8080/"
    },
    "id": "zxiPAfcXJlz1",
    "outputId": "d4c678dc-cfa2-48c6-96b0-bac43696ea26"
   },
   "outputs": [],
   "source": [
    "np.unique(df_EDA['time'])"
   ]
  },
  {
   "cell_type": "code",
   "execution_count": null,
   "metadata": {
    "colab": {
     "base_uri": "https://localhost:8080/",
     "height": 626
    },
    "id": "efBvIIThI8mc",
    "outputId": "644703d9-2aa7-4022-bba4-758ae585d712"
   },
   "outputs": [],
   "source": [
    "plt.figure(figsize=(14,10))\n",
    "plt.title('Persebaran data hubungan antara kadar serum creatinin dengan waktu penanganan pasien')\n",
    "sns.scatterplot(data=df_EDA, x='serum_creatinine', y='time', hue='sex')\n",
    "plt.savefig(\"scatter_serum_time.png\",\n",
    "            bbox_inches =\"tight\",\n",
    "            pad_inches = 1,\n",
    "            transparent = True,\n",
    "            orientation ='landscape')"
   ]
  },
  {
   "cell_type": "code",
   "execution_count": null,
   "metadata": {
    "colab": {
     "base_uri": "https://localhost:8080/",
     "height": 592
    },
    "id": "JHdQVz-GsFPN",
    "outputId": "2c43be1c-2a81-4dd6-c814-b32efb0bcd6b"
   },
   "outputs": [],
   "source": [
    "plt.figure(figsize=(16,10))\n",
    "\n",
    "df_EDA['DEATH_EVENT'].value_counts().plot(\n",
    "    kind='pie',\n",
    "    autopct='%.2f%%',\n",
    "    shadow=False\n",
    ")\n",
    "plt.title('Persentase Kematian pada dataset')\n",
    "plt.ylabel('')\n",
    "plt.savefig(\"pie_DE.png\",\n",
    "            bbox_inches =\"tight\",\n",
    "            pad_inches = 1,\n",
    "            transparent = True,\n",
    "            orientation ='landscape')"
   ]
  },
  {
   "attachments": {},
   "cell_type": "markdown",
   "metadata": {
    "id": "V1nvQp1kruMZ"
   },
   "source": [
    "# Data Preprocessing"
   ]
  },
  {
   "cell_type": "code",
   "execution_count": null,
   "metadata": {
    "id": "cSsjFccwRuVG"
   },
   "outputs": [],
   "source": [
    "new_df_scaled = new_df.copy()\n",
    "numerics = ['int64','float64']\n",
    "# new_df_scaled.drop(columns=['DEATH_EVENT'],inplace=True)\n",
    "scaler = StandardScaler()\n",
    "numeric_df = new_df.select_dtypes(include=numerics)\n",
    "for column in numeric_df.columns:\n",
    "  new_df_scaled[column] = scaler.fit_transform(new_df_scaled[column].values.reshape(-1,1))\n",
    "new_df_scaled['DEATH_EVENT'] = new_df['DEATH_EVENT']\n",
    "new_df_scaled['young_person'] = new_df['age'].apply(lambda x: 1 if x < 50 else 0)\n",
    "# new_df_scaled = new_df_scaled.drop(columns=['age'])"
   ]
  },
  {
   "cell_type": "code",
   "execution_count": null,
   "metadata": {
    "colab": {
     "base_uri": "https://localhost:8080/",
     "height": 488
    },
    "id": "UvcpFORBLYdi",
    "outputId": "3d5b5854-6112-4a32-a722-781ee1c015a5"
   },
   "outputs": [],
   "source": [
    "new_df_scaled"
   ]
  },
  {
   "cell_type": "markdown",
   "metadata": {
    "id": "ZnOksJtqFSbX"
   },
   "source": [
    "## Data Splitting dengan dan tanpa SMOTE (Synthetic Minority Oversampling Technique).\n",
    "\n",
    "Menggunakan SMOTE agar meng-oversampling data"
   ]
  },
  {
   "cell_type": "code",
   "execution_count": null,
   "metadata": {
    "id": "2WG1cJXxNCup"
   },
   "outputs": [],
   "source": [
    "X = new_df_scaled.drop(columns=['DEATH_EVENT'])\n",
    "y = new_df_scaled['DEATH_EVENT']\n",
    "\n",
    "smote = SMOTE()\n",
    "X_s, y_s = smote.fit_resample(X, y)\n",
    "X_train, X_test, y_train, y_test = train_test_split(X, y, test_size=0.1, random_state=42)\n",
    "Xs_train, Xs_test, ys_train, ys_test = train_test_split(X_s, y_s, test_size=0.1, random_state=42)"
   ]
  },
  {
   "attachments": {},
   "cell_type": "markdown",
   "metadata": {
    "id": "lq0LzJMYr1Cq"
   },
   "source": [
    "# Pendefinisian Model"
   ]
  },
  {
   "cell_type": "markdown",
   "metadata": {
    "id": "SeBhYtBtTJ7C"
   },
   "source": [
    "## Decision Tree"
   ]
  },
  {
   "cell_type": "code",
   "execution_count": null,
   "metadata": {
    "colab": {
     "base_uri": "https://localhost:8080/"
    },
    "id": "wqj1BOHVNWoC",
    "outputId": "6cf4676f-a361-437e-bd1d-0e684e20f025"
   },
   "outputs": [],
   "source": [
    "dt_model = DecisionTreeClassifier(criterion='gini')\n",
    "dt_model_s = DecisionTreeClassifier(criterion='gini')\n",
    "dt_model.fit(X_train, y_train)\n",
    "dt_model_s.fit(Xs_train, ys_train)"
   ]
  },
  {
   "cell_type": "code",
   "execution_count": null,
   "metadata": {
    "colab": {
     "base_uri": "https://localhost:8080/",
     "height": 1000
    },
    "id": "oDNMCKmdTTE9",
    "outputId": "872dd64d-a5c0-4159-94b3-01f711ecf81b"
   },
   "outputs": [],
   "source": [
    "dot_data = export_graphviz(dt_model, out_file=None, \n",
    "                      class_names=new_df_scaled['DEATH_EVENT'].astype('str'),  \n",
    "                      filled=True, rounded=True,  \n",
    "                      special_characters=True,\n",
    "                      )  \n",
    "graph = graphviz.Source(dot_data)\n",
    "graph"
   ]
  },
  {
   "cell_type": "markdown",
   "metadata": {
    "id": "xvhrjFWII95O"
   },
   "source": [
    "**akurasi model tanpa SMOTE**"
   ]
  },
  {
   "cell_type": "code",
   "execution_count": null,
   "metadata": {
    "colab": {
     "base_uri": "https://localhost:8080/"
    },
    "id": "pmaPjFwTPQNf",
    "outputId": "f7829dfe-fbf6-4c21-b5f3-11ff469a7279"
   },
   "outputs": [],
   "source": [
    "y_pred_dt = dt_model.predict(X_test)\n",
    "accuracy_score_dt = accuracy_score(y_test, y_pred_dt)\n",
    "accuracy_score_dt"
   ]
  },
  {
   "cell_type": "markdown",
   "metadata": {
    "id": "WwFGGlX9JBA-"
   },
   "source": [
    "**akurasi model dengan SMOTE**"
   ]
  },
  {
   "cell_type": "code",
   "execution_count": null,
   "metadata": {
    "colab": {
     "base_uri": "https://localhost:8080/"
    },
    "id": "muNlbA6DGj2-",
    "outputId": "863eb798-48ea-42ef-ab45-ab1b0acdfeda"
   },
   "outputs": [],
   "source": [
    "y_pred_dts = dt_model_s.predict(Xs_test)\n",
    "accuracy_score_dts = accuracy_score(ys_test, y_pred_dts)\n",
    "accuracy_score_dts"
   ]
  },
  {
   "cell_type": "markdown",
   "metadata": {
    "id": "xLJ6D0g7TNbP"
   },
   "source": [
    "## Decision Tree with Bagging"
   ]
  },
  {
   "cell_type": "code",
   "execution_count": null,
   "metadata": {
    "colab": {
     "base_uri": "https://localhost:8080/"
    },
    "id": "tIX2YrGdT2pz",
    "outputId": "72095473-78d9-4039-8531-b6a3d30a0fd0"
   },
   "outputs": [],
   "source": [
    "bag_clf = BaggingClassifier(\n",
    "            DecisionTreeClassifier(), \n",
    "            bootstrap=True, \n",
    "            n_jobs=-1\n",
    "          )\n",
    "bag_clf_s = BaggingClassifier(\n",
    "            DecisionTreeClassifier(), \n",
    "            bootstrap=True, \n",
    "            n_jobs=-1\n",
    "          )\n",
    "bag_clf.fit(X_train, y_train)\n",
    "bag_clf_s.fit(Xs_train, ys_train)"
   ]
  },
  {
   "cell_type": "markdown",
   "metadata": {
    "id": "zaq8IN7xJHY0"
   },
   "source": [
    "**akurasi model tanpa SMOTE**"
   ]
  },
  {
   "cell_type": "code",
   "execution_count": null,
   "metadata": {
    "colab": {
     "base_uri": "https://localhost:8080/"
    },
    "id": "bQVLnrfqUB-S",
    "outputId": "3e80faeb-b20b-44e8-bf9f-ce911a496b8b"
   },
   "outputs": [],
   "source": [
    "y_pred_dt_bag = bag_clf.predict(X_test)\n",
    "accuracy_score_dt_bag = accuracy_score(y_test, y_pred_dt_bag)\n",
    "accuracy_score_dt_bag"
   ]
  },
  {
   "cell_type": "markdown",
   "metadata": {
    "id": "-Udj4482JJW0"
   },
   "source": [
    "**akurasi model dengan SMOTE**"
   ]
  },
  {
   "cell_type": "code",
   "execution_count": null,
   "metadata": {
    "colab": {
     "base_uri": "https://localhost:8080/"
    },
    "id": "VmtlwWN0IFSW",
    "outputId": "f69b90e8-6722-48e1-8c74-07b3d9d4a60c"
   },
   "outputs": [],
   "source": [
    "y_pred_dt_bags = bag_clf_s.predict(Xs_test)\n",
    "accuracy_score_dt_bags = accuracy_score(ys_test, y_pred_dt_bags)\n",
    "accuracy_score_dt_bags"
   ]
  },
  {
   "cell_type": "markdown",
   "metadata": {
    "id": "6efn7htaUU5T"
   },
   "source": [
    "## Random Forest"
   ]
  },
  {
   "cell_type": "code",
   "execution_count": null,
   "metadata": {
    "colab": {
     "base_uri": "https://localhost:8080/"
    },
    "id": "BhTuyq9kUXC6",
    "outputId": "a1bc09c8-a460-4f55-e22c-55648a952d98"
   },
   "outputs": [],
   "source": [
    "rnd_clf = RandomForestClassifier()\n",
    "rnd_clf_s = RandomForestClassifier()\n",
    "rnd_clf.fit(X_train, y_train)\n",
    "rnd_clf_s.fit(Xs_train, ys_train)"
   ]
  },
  {
   "cell_type": "markdown",
   "metadata": {
    "id": "vv3VCahkJmMF"
   },
   "source": [
    "**akurasi model tanpa SMOTE**"
   ]
  },
  {
   "cell_type": "code",
   "execution_count": null,
   "metadata": {
    "colab": {
     "base_uri": "https://localhost:8080/"
    },
    "id": "cPM4q4uZUn9Y",
    "outputId": "d844c698-886a-49ee-d5b1-c4a8e5d41e40"
   },
   "outputs": [],
   "source": [
    "y_pred_rnd_clf = rnd_clf.predict(X_test)\n",
    "accuracy_score_rnd_clf = accuracy_score(y_test, y_pred_rnd_clf)\n",
    "accuracy_score_rnd_clf"
   ]
  },
  {
   "cell_type": "markdown",
   "metadata": {
    "id": "hwf-MYvuJneg"
   },
   "source": [
    "**akurasi model dengan SMOTE**"
   ]
  },
  {
   "cell_type": "code",
   "execution_count": null,
   "metadata": {
    "colab": {
     "base_uri": "https://localhost:8080/"
    },
    "id": "NxSpe6hmIeuk",
    "outputId": "f7f34ddd-dcb3-4277-84d1-b835ee46920c"
   },
   "outputs": [],
   "source": [
    "y_pred_rnd_clfs = rnd_clf_s.predict(Xs_test)\n",
    "accuracy_score_rnd_clfs = accuracy_score(ys_test, y_pred_rnd_clfs)\n",
    "accuracy_score_rnd_clfs"
   ]
  },
  {
   "cell_type": "markdown",
   "metadata": {
    "id": "LvRI1tMFXBv5"
   },
   "source": [
    "## LogisticRegression"
   ]
  },
  {
   "cell_type": "code",
   "execution_count": null,
   "metadata": {
    "colab": {
     "base_uri": "https://localhost:8080/"
    },
    "id": "SSSJcHMRXD16",
    "outputId": "a1541422-26df-4fca-91c7-75ab3d395860"
   },
   "outputs": [],
   "source": [
    "lgr_clf =LogisticRegression(random_state=42)\n",
    "lgr_clf_s =LogisticRegression(random_state=42)\n",
    "lgr_clf.fit(X_train, y_train)\n",
    "lgr_clf_s.fit(Xs_train, ys_train)"
   ]
  },
  {
   "cell_type": "markdown",
   "metadata": {
    "id": "l2p39BQ5O3l8"
   },
   "source": [
    "**akurasi model tanpa SMOTE**"
   ]
  },
  {
   "cell_type": "code",
   "execution_count": null,
   "metadata": {
    "colab": {
     "base_uri": "https://localhost:8080/"
    },
    "id": "09RjTU35XNps",
    "outputId": "44dda32a-183f-4857-faad-a97283d89f4a"
   },
   "outputs": [],
   "source": [
    "y_pred_lgr_clf = lgr_clf.predict(X_test)\n",
    "accuracy_score_lgr_clf = accuracy_score(y_test, y_pred_lgr_clf)\n",
    "accuracy_score_lgr_clf"
   ]
  },
  {
   "cell_type": "markdown",
   "metadata": {
    "id": "8GBOvIw0O4P7"
   },
   "source": [
    "**akurasi model dengan SMOTE**"
   ]
  },
  {
   "cell_type": "code",
   "execution_count": null,
   "metadata": {
    "colab": {
     "base_uri": "https://localhost:8080/"
    },
    "id": "rDprRPdhJwAt",
    "outputId": "d591c662-780c-4a66-9485-83493b544674"
   },
   "outputs": [],
   "source": [
    "y_pred_lgr_clfs = lgr_clf_s.predict(Xs_test)\n",
    "accuracy_score_lgr_clfs = accuracy_score(ys_test, y_pred_lgr_clfs)\n",
    "accuracy_score_lgr_clfs"
   ]
  },
  {
   "cell_type": "markdown",
   "metadata": {
    "id": "H5OsarGOXjrV"
   },
   "source": [
    "## SVM"
   ]
  },
  {
   "cell_type": "code",
   "execution_count": null,
   "metadata": {
    "colab": {
     "base_uri": "https://localhost:8080/"
    },
    "id": "TT99hAuYXkj0",
    "outputId": "41189ca7-6a23-457b-f579-fe0489db40ac"
   },
   "outputs": [],
   "source": [
    "svc = SVC()\n",
    "svc_s = SVC()\n",
    "svc.fit(X_train, y_train)\n",
    "svc_s.fit(Xs_train, ys_train)"
   ]
  },
  {
   "cell_type": "markdown",
   "metadata": {
    "id": "yJUqaTlGPUtb"
   },
   "source": [
    "**akurasi model tanpa SMOTE**"
   ]
  },
  {
   "cell_type": "code",
   "execution_count": null,
   "metadata": {
    "colab": {
     "base_uri": "https://localhost:8080/"
    },
    "id": "BOkupapoXxoy",
    "outputId": "b7ec22bd-9c23-4bc5-cd9b-2942b5a7ab20"
   },
   "outputs": [],
   "source": [
    "y_pred_svc = svc.predict(X_test)\n",
    "accuracy_score_svc = accuracy_score(y_test, y_pred_svc)\n",
    "accuracy_score_svc"
   ]
  },
  {
   "cell_type": "markdown",
   "metadata": {
    "id": "yNcWBQkmPVSd"
   },
   "source": [
    "**akurasi model dengan SMOTE**"
   ]
  },
  {
   "cell_type": "code",
   "execution_count": null,
   "metadata": {
    "colab": {
     "base_uri": "https://localhost:8080/"
    },
    "id": "dFsCy1d0O-xV",
    "outputId": "c09a64c7-4faa-4566-af55-882c6512e2f8"
   },
   "outputs": [],
   "source": [
    "y_pred_svcs = svc_s.predict(Xs_test)\n",
    "accuracy_score_svcs = accuracy_score(ys_test, y_pred_svcs)\n",
    "accuracy_score_svcs"
   ]
  },
  {
   "cell_type": "markdown",
   "metadata": {
    "id": "bysaD46QXX6d"
   },
   "source": [
    "## VotingClassifier"
   ]
  },
  {
   "cell_type": "code",
   "execution_count": null,
   "metadata": {
    "colab": {
     "base_uri": "https://localhost:8080/"
    },
    "id": "GrPIthRiX9wK",
    "outputId": "e88500c9-1ef6-4b65-9f51-8d97d5da7c02"
   },
   "outputs": [],
   "source": [
    "voting_clf = VotingClassifier(\n",
    "                estimators=[('lr', lgr_clf), ('rf', rnd_clf), ('svc', svc)],\n",
    "                voting='hard'\n",
    "              )\n",
    "voting_clf_s = VotingClassifier(\n",
    "                estimators=[('lr', lgr_clf), ('rf', rnd_clf), ('svc', svc)],\n",
    "                voting='hard'\n",
    "              )\n",
    "voting_clf.fit(X_train, y_train)\n",
    "voting_clf_s.fit(Xs_train, ys_train)"
   ]
  },
  {
   "cell_type": "markdown",
   "metadata": {
    "id": "nmUpdgEmPrhF"
   },
   "source": [
    "**akurasi model tanpa SMOTE**"
   ]
  },
  {
   "cell_type": "code",
   "execution_count": null,
   "metadata": {
    "colab": {
     "base_uri": "https://localhost:8080/"
    },
    "id": "b7Ah2PbJYGCg",
    "outputId": "6d5e34d0-dbb5-43bf-faea-9e69c8c07274"
   },
   "outputs": [],
   "source": [
    "y_pred_voting = voting_clf.predict(X_test)\n",
    "accuracy_score_pred_voting = accuracy_score(y_test, y_pred_voting)\n",
    "accuracy_score_pred_voting"
   ]
  },
  {
   "cell_type": "markdown",
   "metadata": {
    "id": "jM6sNKbQPsAE"
   },
   "source": [
    "**akurasi model dengan SMOTE**"
   ]
  },
  {
   "cell_type": "code",
   "execution_count": null,
   "metadata": {
    "colab": {
     "base_uri": "https://localhost:8080/"
    },
    "id": "DNbdHhVQPiYN",
    "outputId": "bf557802-40c7-4e72-eb94-e2250b41244b"
   },
   "outputs": [],
   "source": [
    "y_pred_votings = voting_clf_s.predict(Xs_test)\n",
    "accuracy_score_pred_votings = accuracy_score(ys_test, y_pred_votings)\n",
    "accuracy_score_pred_votings"
   ]
  },
  {
   "cell_type": "markdown",
   "metadata": {
    "id": "Fco02wFguOeB"
   },
   "source": [
    "## XGBoost"
   ]
  },
  {
   "cell_type": "code",
   "execution_count": null,
   "metadata": {
    "colab": {
     "base_uri": "https://localhost:8080/"
    },
    "id": "ftLHF4FUvB2f",
    "outputId": "f133336b-5b5b-48b0-891a-4e0ec7deafa3"
   },
   "outputs": [],
   "source": [
    "xgb = XGBClassifier()\n",
    "xgb_s = XGBClassifier()\n",
    "xgb.fit(X_train, y_train)\n",
    "xgb_s.fit(Xs_train, ys_train)"
   ]
  },
  {
   "cell_type": "markdown",
   "metadata": {
    "id": "5Auh9akjP8Ab"
   },
   "source": [
    "**akurasi model tanpa SMOTE**"
   ]
  },
  {
   "cell_type": "code",
   "execution_count": null,
   "metadata": {
    "colab": {
     "base_uri": "https://localhost:8080/"
    },
    "id": "Uu1hQ33mvHQV",
    "outputId": "0b8ab563-1bbb-482b-dfcd-81cf6e778386"
   },
   "outputs": [],
   "source": [
    "y_pred_xgb = xgb.predict(X_test)\n",
    "accuracy_score_xgb = accuracy_score(y_test, y_pred_xgb)\n",
    "accuracy_score_xgb"
   ]
  },
  {
   "cell_type": "markdown",
   "metadata": {
    "id": "M6_hEiS6P8fC"
   },
   "source": [
    "**akurasi model dengan SMOTE**"
   ]
  },
  {
   "cell_type": "code",
   "execution_count": null,
   "metadata": {
    "colab": {
     "base_uri": "https://localhost:8080/"
    },
    "id": "x8plBJbGP3K9",
    "outputId": "f4d3559d-85c0-4e46-d7ef-2a26d9a4b60e"
   },
   "outputs": [],
   "source": [
    "y_pred_xgbs = xgb_s.predict(Xs_test)\n",
    "accuracy_score_xgbs = accuracy_score(ys_test, y_pred_xgbs)\n",
    "accuracy_score_xgbs"
   ]
  },
  {
   "cell_type": "markdown",
   "metadata": {
    "id": "a-7AgupeuxlF"
   },
   "source": [
    "## AdaBoost"
   ]
  },
  {
   "cell_type": "code",
   "execution_count": null,
   "metadata": {
    "colab": {
     "base_uri": "https://localhost:8080/"
    },
    "id": "WABr2s85wB2m",
    "outputId": "2d09b6cf-5c1f-46be-ee94-73044cffc223"
   },
   "outputs": [],
   "source": [
    "ada_clf = AdaBoostClassifier(\n",
    "            DecisionTreeClassifier(), \n",
    "            n_estimators=299,\n",
    "            algorithm=\"SAMME.R\", \n",
    "            learning_rate=0.35\n",
    "          )\n",
    "\n",
    "ada_clf_s = AdaBoostClassifier(\n",
    "            DecisionTreeClassifier(), \n",
    "            n_estimators=299,\n",
    "            algorithm=\"SAMME.R\", \n",
    "            learning_rate=0.35\n",
    "          )\n",
    "\n",
    "ada_clf.fit(X_train, y_train)\n",
    "ada_clf_s.fit(Xs_train, ys_train)"
   ]
  },
  {
   "cell_type": "markdown",
   "metadata": {
    "id": "ESrESMBwQJ0m"
   },
   "source": [
    "**akurasi model tanpa SMOTE**"
   ]
  },
  {
   "cell_type": "code",
   "execution_count": null,
   "metadata": {
    "colab": {
     "base_uri": "https://localhost:8080/"
    },
    "id": "QC5Pu7yWv0Am",
    "outputId": "31d54c91-412e-4c86-80b7-0555eec2e2b6"
   },
   "outputs": [],
   "source": [
    "y_pred_adaBoost = ada_clf.predict(X_test)\n",
    "accuracy_score_adaBoost = accuracy_score(y_test, y_pred_adaBoost)\n",
    "accuracy_score_adaBoost"
   ]
  },
  {
   "cell_type": "markdown",
   "metadata": {
    "id": "qmrLsAF2QLEM"
   },
   "source": [
    "**akurasi model dengan SMOTE**"
   ]
  },
  {
   "cell_type": "code",
   "execution_count": null,
   "metadata": {
    "colab": {
     "base_uri": "https://localhost:8080/"
    },
    "id": "3aquZ08KQDCT",
    "outputId": "6c886e4c-d9cc-4171-8a11-e286b9485dcf"
   },
   "outputs": [],
   "source": [
    "y_pred_adaBoosts = ada_clf_s.predict(Xs_test)\n",
    "accuracy_score_adaBoosts = accuracy_score(ys_test, y_pred_adaBoosts)\n",
    "accuracy_score_adaBoosts"
   ]
  },
  {
   "cell_type": "markdown",
   "metadata": {
    "id": "l1tQb_tGvVyC"
   },
   "source": [
    "## Extra Trees Classifier"
   ]
  },
  {
   "cell_type": "code",
   "execution_count": null,
   "metadata": {
    "colab": {
     "base_uri": "https://localhost:8080/"
    },
    "id": "woMZ9W1YvdcW",
    "outputId": "ae814aeb-c10b-4a15-debd-7ad538380845"
   },
   "outputs": [],
   "source": [
    "extra_tree = ExtraTreesClassifier()\n",
    "extra_tree_s = ExtraTreesClassifier()\n",
    "extra_tree.fit(X_train, y_train)\n",
    "extra_tree_s.fit(Xs_train, ys_train)"
   ]
  },
  {
   "cell_type": "markdown",
   "metadata": {
    "id": "lbbOprbVQdpE"
   },
   "source": [
    "**akurasi model tanpa SMOTE**"
   ]
  },
  {
   "cell_type": "code",
   "execution_count": null,
   "metadata": {
    "colab": {
     "base_uri": "https://localhost:8080/"
    },
    "id": "6hgcYJLUCc4F",
    "outputId": "2c0f7265-8804-41d8-d5b1-d9f75d2df8b8"
   },
   "outputs": [],
   "source": [
    "y_pred_tree = extra_tree.predict(X_test)\n",
    "accuracy_score_tree = accuracy_score(y_test, y_pred_tree)\n",
    "accuracy_score_tree"
   ]
  },
  {
   "cell_type": "markdown",
   "metadata": {
    "id": "5udIMe0UQe3t"
   },
   "source": [
    "**akurasi model dengan SMOTE**"
   ]
  },
  {
   "cell_type": "code",
   "execution_count": null,
   "metadata": {
    "colab": {
     "base_uri": "https://localhost:8080/"
    },
    "id": "VwrqI7bhQWxr",
    "outputId": "6f725e8e-e3de-4aee-d1a5-39dffe28d07b"
   },
   "outputs": [],
   "source": [
    "y_pred_trees = extra_tree_s.predict(Xs_test)\n",
    "accuracy_score_trees = accuracy_score(ys_test, y_pred_trees)\n",
    "accuracy_score_trees"
   ]
  },
  {
   "cell_type": "markdown",
   "metadata": {
    "id": "4kjBE8aMvpLD"
   },
   "source": [
    "## GradientBoost"
   ]
  },
  {
   "cell_type": "code",
   "execution_count": null,
   "metadata": {
    "colab": {
     "base_uri": "https://localhost:8080/"
    },
    "id": "dd3azCn3vrw6",
    "outputId": "840bfd89-d88d-43bd-ac28-7be4938ec554"
   },
   "outputs": [],
   "source": [
    "grad_clf = GradientBoostingClassifier()\n",
    "grad_clf_s = GradientBoostingClassifier()\n",
    "grad_clf.fit(X_train, y_train)\n",
    "grad_clf_s.fit(Xs_train, ys_train)"
   ]
  },
  {
   "cell_type": "markdown",
   "metadata": {
    "id": "1JjrT5DtQ1zs"
   },
   "source": [
    "**akurasi model tanpa SMOTE**"
   ]
  },
  {
   "cell_type": "code",
   "execution_count": null,
   "metadata": {
    "colab": {
     "base_uri": "https://localhost:8080/"
    },
    "id": "Ct4ok7gmDUiV",
    "outputId": "07a0eb8b-83b8-4fa1-f09f-155030b8c613"
   },
   "outputs": [],
   "source": [
    "y_pred_grad_clf = grad_clf.predict(X_test)\n",
    "accuracy_score_grad_clf = accuracy_score(y_test, y_pred_grad_clf)\n",
    "accuracy_score_grad_clf"
   ]
  },
  {
   "cell_type": "markdown",
   "metadata": {
    "id": "FUWFjjL4Q2VL"
   },
   "source": [
    "**akurasi model dengan SMOTE**"
   ]
  },
  {
   "cell_type": "code",
   "execution_count": null,
   "metadata": {
    "colab": {
     "base_uri": "https://localhost:8080/"
    },
    "id": "Ec-FfOnuQqUD",
    "outputId": "3c1804da-c6b5-43c4-c42b-a4aea3aae5eb"
   },
   "outputs": [],
   "source": [
    "y_pred_grad_clfs = grad_clf_s.predict(Xs_test)\n",
    "accuracy_score_grad_clfs = accuracy_score(ys_test, y_pred_grad_clfs)\n",
    "accuracy_score_grad_clfs"
   ]
  },
  {
   "cell_type": "markdown",
   "metadata": {
    "id": "E4A6e018r5yZ"
   },
   "source": [
    "# Evaluasi Model"
   ]
  },
  {
   "cell_type": "code",
   "execution_count": null,
   "metadata": {
    "id": "-NInk6jAZcCN"
   },
   "outputs": [],
   "source": [
    "list_pred = [y_pred_dt,\n",
    "             y_pred_dt_bag,\n",
    "             y_pred_rnd_clf,\n",
    "             y_pred_lgr_clf,\n",
    "             y_pred_svc,\n",
    "             y_pred_voting,\n",
    "             y_pred_xgb,\n",
    "             y_pred_adaBoost,\n",
    "             y_pred_tree,\n",
    "             y_pred_grad_clf]\n",
    "\n",
    "list_pred_s = [y_pred_dts,\n",
    "               y_pred_dt_bags,\n",
    "               y_pred_rnd_clfs,\n",
    "               y_pred_lgr_clfs,\n",
    "               y_pred_svcs,\n",
    "               y_pred_votings,\n",
    "               y_pred_xgbs,\n",
    "               y_pred_adaBoosts,\n",
    "               y_pred_trees,\n",
    "               y_pred_grad_clfs]\n",
    "\n",
    "list_model = ['Decision Tree',\n",
    "              'Decision Tree with Bagging',\n",
    "              'Random Forest Classifier',\n",
    "              'Logistic Regression',\n",
    "              'Support Vector Classifier',\n",
    "              'Voting Classifier',\n",
    "              'XGBoost',\n",
    "              'AdaBoost',\n",
    "              'Extra Trees Classifier',\n",
    "              'GradientBoost']"
   ]
  },
  {
   "cell_type": "markdown",
   "metadata": {
    "id": "EUrh7GCnY082"
   },
   "source": [
    "## F1 Score"
   ]
  },
  {
   "cell_type": "code",
   "execution_count": null,
   "metadata": {
    "colab": {
     "base_uri": "https://localhost:8080/"
    },
    "id": "Df0VjKzcZVNB",
    "outputId": "6a121aea-e581-446d-e28b-24f5c6e0b785"
   },
   "outputs": [],
   "source": [
    "for i in range(len(list_pred)):\n",
    "  print('F1 score dari model {} tanpa SMOTE adalah {}'.format(list_model[i], f1_score(y_test,list_pred[i])))\n",
    "  print('F1 score dari model {} dengan SMOTE adalah {}'.format(list_model[i], f1_score(ys_test,list_pred_s[i])))\n",
    "  print('============================================')"
   ]
  },
  {
   "cell_type": "markdown",
   "metadata": {
    "id": "p7lBY-jJY2dQ"
   },
   "source": [
    "## Recall"
   ]
  },
  {
   "cell_type": "code",
   "execution_count": null,
   "metadata": {
    "colab": {
     "base_uri": "https://localhost:8080/"
    },
    "id": "pn9u9bBobGH3",
    "outputId": "06b0dd59-dc45-446f-cc03-ce094d8949c3"
   },
   "outputs": [],
   "source": [
    "for i in range(len(list_pred)):\n",
    "  print('Recall score dari model {} tanpa SMOTE adalah {}'.format(list_model[i], recall_score(y_test,list_pred[i])))\n",
    "  print('Recall score dari model {} dengan SMOTE adalah {}'.format(list_model[i], recall_score(ys_test,list_pred_s[i])))\n",
    "  print('============================================')"
   ]
  },
  {
   "cell_type": "markdown",
   "metadata": {
    "id": "ve9rDQRyY5pW"
   },
   "source": [
    "## Precision"
   ]
  },
  {
   "cell_type": "code",
   "execution_count": null,
   "metadata": {
    "colab": {
     "base_uri": "https://localhost:8080/"
    },
    "id": "MpSUf5x6bK6i",
    "outputId": "fa90adc4-741b-4d62-f4d6-6a8938f54ab8"
   },
   "outputs": [],
   "source": [
    "for i in range(len(list_pred)):\n",
    "  print('Precision score dari model {} tanpa SMOTE adalah {}'.format(list_model[i], precision_score(y_test,list_pred[i])))\n",
    "  print('Precision score dari model {} dengan SMOTE adalah {}'.format(list_model[i], precision_score(ys_test,list_pred_s[i])))\n",
    "  print('============================================')"
   ]
  },
  {
   "cell_type": "markdown",
   "metadata": {
    "id": "2KkzVC3tRKgU"
   },
   "source": [
    "## Classification Report"
   ]
  },
  {
   "cell_type": "code",
   "execution_count": null,
   "metadata": {
    "colab": {
     "base_uri": "https://localhost:8080/"
    },
    "id": "OnjHBEHnROJj",
    "outputId": "095c9876-4af3-49df-9bbc-8dbf80e3fd03"
   },
   "outputs": [],
   "source": [
    "for i in range(len(list_pred)):\n",
    "  print('=====================================================================')\n",
    "  print('Classification report dari model {} tanpa menggunakan SMOTE'.format(list_model[i]))\n",
    "  print('=====================================================================')\n",
    "  print('{}'.format(classification_report(y_test,list_pred[i])))\n",
    "  print('\\n')\n",
    "  print('=====================================================================')\n",
    "  print('Classification report dari model {} dengan menggunakan SMOTE'.format(list_model[i]))\n",
    "  print('=====================================================================')\n",
    "  print('{}'.format(classification_report(ys_test,list_pred_s[i])))"
   ]
  },
  {
   "cell_type": "markdown",
   "metadata": {
    "id": "MTm5SfO7mbnA"
   },
   "source": [
    "## Confusion Matrix"
   ]
  },
  {
   "cell_type": "code",
   "execution_count": null,
   "metadata": {
    "colab": {
     "base_uri": "https://localhost:8080/",
     "height": 385
    },
    "id": "ut0LOp-Kmeih",
    "outputId": "292478b3-f55c-4e31-baba-8532b35acedd"
   },
   "outputs": [],
   "source": [
    "dtm = confusion_matrix(y_test, y_pred_dt)\n",
    "dtsm = confusion_matrix(ys_test, y_pred_dts)\n",
    "\n",
    "fig, ax = plt.subplots(1,2,figsize=(10,5), constrained_layout=True)\n",
    "sns.heatmap(dtm, annot=True, fmt=\"d\", linewidths=.5, cmap = 'YlGnBu', ax=ax[0])\n",
    "ax[0].set_title('Decision Tree tanpa SMOTE')\n",
    "sns.heatmap(dtsm, annot=True, fmt=\"d\", linewidths=.5, cmap = 'Reds', ax=ax[1])\n",
    "ax[1].set_title('Decision Tree dengan SMOTE')\n",
    "plt.savefig(\"dtm.png\",\n",
    "            bbox_inches =\"tight\",\n",
    "            pad_inches = 1,\n",
    "            transparent = True,\n",
    "            orientation ='landscape')"
   ]
  },
  {
   "cell_type": "code",
   "execution_count": null,
   "metadata": {
    "colab": {
     "base_uri": "https://localhost:8080/",
     "height": 385
    },
    "id": "2JdjjFFOn3RK",
    "outputId": "bcc12982-4576-4071-a971-15bb8c120773"
   },
   "outputs": [],
   "source": [
    "dtbm = confusion_matrix(y_test, y_pred_dt_bag)\n",
    "dtbsm = confusion_matrix(ys_test, y_pred_dt_bags)\n",
    "\n",
    "fig, ax = plt.subplots(1,2,figsize=(10,5), constrained_layout=True)\n",
    "sns.heatmap(dtbm, annot=True, fmt=\"d\", linewidths=.5, cmap = 'YlGnBu', ax=ax[0])\n",
    "ax[0].set_title('Decision Tree with Bagging tanpa SMOTE')\n",
    "sns.heatmap(dtbsm, annot=True, fmt=\"d\", linewidths=.5, cmap = 'Reds', ax=ax[1])\n",
    "ax[1].set_title('Decision Tree with Bagging dengan SMOTE')\n",
    "plt.savefig(\"dtbm.png\",\n",
    "            bbox_inches =\"tight\",\n",
    "            pad_inches = 1,\n",
    "            transparent = True,\n",
    "            orientation ='landscape')"
   ]
  },
  {
   "cell_type": "code",
   "execution_count": null,
   "metadata": {
    "colab": {
     "base_uri": "https://localhost:8080/",
     "height": 385
    },
    "id": "8smGmujboAS5",
    "outputId": "3a3e1dd4-e189-4634-eae0-f52bf9150b09"
   },
   "outputs": [],
   "source": [
    "rfm = confusion_matrix(y_test, y_pred_rnd_clf)\n",
    "rfsm = confusion_matrix(ys_test, y_pred_rnd_clfs)\n",
    "\n",
    "fig, ax = plt.subplots(1,2,figsize=(10,5), constrained_layout=True)\n",
    "sns.heatmap(rfm, annot=True, fmt=\"d\", linewidths=.5, cmap = 'YlGnBu', ax=ax[0])\n",
    "ax[0].set_title('Random Forest tanpa SMOTE')\n",
    "sns.heatmap(rfsm, annot=True, fmt=\"d\", linewidths=.5, cmap = 'Reds', ax=ax[1])\n",
    "ax[1].set_title('Random Forest dengan SMOTE')\n",
    "plt.savefig(\"rfm.png\",\n",
    "            bbox_inches =\"tight\",\n",
    "            pad_inches = 1,\n",
    "            transparent = True,\n",
    "            orientation ='landscape')"
   ]
  },
  {
   "cell_type": "code",
   "execution_count": null,
   "metadata": {
    "colab": {
     "base_uri": "https://localhost:8080/",
     "height": 385
    },
    "id": "o0N_NdtWoAqZ",
    "outputId": "97f07a27-8bdc-44a2-9361-57b5bd407dbe"
   },
   "outputs": [],
   "source": [
    "lgrm = confusion_matrix(y_test, y_pred_lgr_clf)\n",
    "lgrsm = confusion_matrix(ys_test, y_pred_lgr_clfs)\n",
    "\n",
    "fig, ax = plt.subplots(1,2,figsize=(10,5), constrained_layout=True)\n",
    "sns.heatmap(lgrm, annot=True, fmt=\"d\", linewidths=.5, cmap = 'YlGnBu', ax=ax[0])\n",
    "ax[0].set_title('Logistic Regression tanpa SMOTE')\n",
    "sns.heatmap(lgrsm, annot=True, fmt=\"d\", linewidths=.5, cmap = 'Reds', ax=ax[1])\n",
    "ax[1].set_title('Logistic Regression dengan SMOTE')\n",
    "plt.savefig(\"lgrm.png\",\n",
    "            bbox_inches =\"tight\",\n",
    "            pad_inches = 1,\n",
    "            transparent = True,\n",
    "            orientation ='landscape')"
   ]
  },
  {
   "cell_type": "code",
   "execution_count": null,
   "metadata": {
    "colab": {
     "base_uri": "https://localhost:8080/",
     "height": 385
    },
    "id": "jzdkS_mjoA-Q",
    "outputId": "26a71a7f-ff1b-4f3c-d53f-2e6a4b7c9ec4"
   },
   "outputs": [],
   "source": [
    "svmm = confusion_matrix(y_test, y_pred_svc)\n",
    "svmsm = confusion_matrix(ys_test, y_pred_svcs)\n",
    "\n",
    "fig, ax = plt.subplots(1,2,figsize=(10,5), constrained_layout=True)\n",
    "sns.heatmap(svmm, annot=True, fmt=\"d\", linewidths=.5, cmap = 'YlGnBu', ax=ax[0])\n",
    "ax[0].set_title('Support Vector Classifier tanpa SMOTE')\n",
    "sns.heatmap(svmsm, annot=True, fmt=\"d\", linewidths=.5, cmap = 'Reds', ax=ax[1])\n",
    "ax[1].set_title('Support Vector Classifier dengan SMOTE')\n",
    "plt.savefig(\"svmm.png\",\n",
    "            bbox_inches =\"tight\",\n",
    "            pad_inches = 1,\n",
    "            transparent = True,\n",
    "            orientation ='landscape')"
   ]
  },
  {
   "cell_type": "code",
   "execution_count": null,
   "metadata": {
    "colab": {
     "base_uri": "https://localhost:8080/",
     "height": 385
    },
    "id": "tE-B0892oBTI",
    "outputId": "bdd38382-adf0-43f1-be2c-4bb889474385"
   },
   "outputs": [],
   "source": [
    "vcm = confusion_matrix(y_test, y_pred_voting)\n",
    "vcsm = confusion_matrix(ys_test, y_pred_votings)\n",
    "\n",
    "fig, ax = plt.subplots(1,2,figsize=(10,5), constrained_layout=True)\n",
    "sns.heatmap(vcm, annot=True, fmt=\"d\", linewidths=.5, cmap = 'YlGnBu', ax=ax[0])\n",
    "ax[0].set_title('Voting Classifier tanpa SMOTE')\n",
    "sns.heatmap(vcsm, annot=True, fmt=\"d\", linewidths=.5, cmap = 'Reds', ax=ax[1])\n",
    "ax[1].set_title('Votting Classfier dengan SMOTE')\n",
    "plt.savefig(\"vcm.png\",\n",
    "            bbox_inches =\"tight\",\n",
    "            pad_inches = 1,\n",
    "            transparent = True,\n",
    "            orientation ='landscape')"
   ]
  },
  {
   "cell_type": "code",
   "execution_count": null,
   "metadata": {
    "colab": {
     "base_uri": "https://localhost:8080/",
     "height": 385
    },
    "id": "lnr3FITnoBgg",
    "outputId": "27dffc41-2b79-46aa-d7e7-bea5be4c4064"
   },
   "outputs": [],
   "source": [
    "xgbm = confusion_matrix(y_test, y_pred_xgb)\n",
    "xgbsm = confusion_matrix(ys_test, y_pred_xgbs)\n",
    "\n",
    "fig, ax = plt.subplots(1,2,figsize=(10,5), constrained_layout=True)\n",
    "sns.heatmap(xgbm, annot=True, fmt=\"d\", linewidths=.5, cmap = 'YlGnBu', ax=ax[0])\n",
    "ax[0].set_title('XGBoost tanpa SMOTE')\n",
    "sns.heatmap(xgbsm, annot=True, fmt=\"d\", linewidths=.5, cmap = 'Reds', ax=ax[1])\n",
    "ax[1].set_title('XGBoost dengan SMOTE')\n",
    "plt.savefig(\"xgbm.png\",\n",
    "            bbox_inches =\"tight\",\n",
    "            pad_inches = 1,\n",
    "            transparent = True,\n",
    "            orientation ='landscape')"
   ]
  },
  {
   "cell_type": "code",
   "execution_count": null,
   "metadata": {
    "colab": {
     "base_uri": "https://localhost:8080/",
     "height": 385
    },
    "id": "wnuxp-GdoBtB",
    "outputId": "8237a6bd-951a-42cb-aca8-f2334a14aa7f"
   },
   "outputs": [],
   "source": [
    "adabm = confusion_matrix(y_test, y_pred_adaBoost)\n",
    "adabsm = confusion_matrix(ys_test, y_pred_adaBoosts)\n",
    "\n",
    "fig, ax = plt.subplots(1,2,figsize=(10,5), constrained_layout=True)\n",
    "sns.heatmap(adabm, annot=True, fmt=\"d\", linewidths=.5, cmap = 'YlGnBu', ax=ax[0])\n",
    "ax[0].set_title('AdaBoost tanpa SMOTE')\n",
    "sns.heatmap(adabsm, annot=True, fmt=\"d\", linewidths=.5, cmap = 'Reds', ax=ax[1])\n",
    "ax[1].set_title('AdaBoost dengan SMOTE')\n",
    "plt.savefig(\"adabm.png\",\n",
    "            bbox_inches =\"tight\",\n",
    "            pad_inches = 1,\n",
    "            transparent = True,\n",
    "            orientation ='landscape')"
   ]
  },
  {
   "cell_type": "code",
   "execution_count": null,
   "metadata": {
    "colab": {
     "base_uri": "https://localhost:8080/",
     "height": 385
    },
    "id": "EnEW65oCoB33",
    "outputId": "e48e4e4c-0dda-4c8b-8abe-eebbb01e886d"
   },
   "outputs": [],
   "source": [
    "xtm = confusion_matrix(y_test, y_pred_tree)\n",
    "xtsm = confusion_matrix(ys_test, y_pred_trees)\n",
    "\n",
    "fig, ax = plt.subplots(1,2,figsize=(10,5), constrained_layout=True)\n",
    "sns.heatmap(xtm, annot=True, fmt=\"d\", linewidths=.5, cmap = 'YlGnBu', ax=ax[0])\n",
    "ax[0].set_title('Extra Trees Classfier tanpa SMOTE')\n",
    "sns.heatmap(xtsm, annot=True, fmt=\"d\", linewidths=.5, cmap = 'Reds', ax=ax[1])\n",
    "ax[1].set_title('Extra Trees Classfier dengan SMOTE')\n",
    "plt.savefig(\"xtm.png\",\n",
    "            bbox_inches =\"tight\",\n",
    "            pad_inches = 1,\n",
    "            transparent = True,\n",
    "            orientation ='landscape')"
   ]
  },
  {
   "cell_type": "code",
   "execution_count": null,
   "metadata": {
    "colab": {
     "base_uri": "https://localhost:8080/",
     "height": 385
    },
    "id": "MNP1lxUvp7ax",
    "outputId": "ea5ac6e6-ca3f-44d1-dd47-2f61d79bb780"
   },
   "outputs": [],
   "source": [
    "gbm = confusion_matrix(y_test, y_pred_grad_clf)\n",
    "gbsm = confusion_matrix(ys_test, y_pred_grad_clfs)\n",
    "\n",
    "fig, ax = plt.subplots(1,2,figsize=(10,5), constrained_layout=True)\n",
    "sns.heatmap(gbm, annot=True, fmt=\"d\", linewidths=.5, cmap = 'YlGnBu', ax=ax[0])\n",
    "ax[0].set_title('GradientBoost Classfier tanpa SMOTE')\n",
    "sns.heatmap(gbsm, annot=True, fmt=\"d\", linewidths=.5, cmap = 'Reds', ax=ax[1])\n",
    "ax[1].set_title('GradientBoost Classfier dengan SMOTE')\n",
    "plt.savefig(\"gbm.png\",\n",
    "            bbox_inches =\"tight\",\n",
    "            pad_inches = 1,\n",
    "            transparent = True,\n",
    "            orientation ='landscape')"
   ]
  },
  {
   "cell_type": "markdown",
   "metadata": {
    "id": "TZeEoZkKVMAL"
   },
   "source": [
    "## Best Model"
   ]
  },
  {
   "cell_type": "code",
   "execution_count": null,
   "metadata": {
    "id": "HuaLxg00aJPz"
   },
   "outputs": [],
   "source": [
    "def finding_max(list_pred,y_test,type_pred=None):\n",
    "  predicted_value = []\n",
    "  for index,pred in enumerate(list_pred):\n",
    "    if(type_pred == 'accuracy'):\n",
    "      predicted_value.append(accuracy_score(y_test,pred))\n",
    "    elif(type_pred == 'recall'):\n",
    "      predicted_value.append(recall_score(y_test,pred))\n",
    "    elif(type_pred == 'precision'):\n",
    "      predicted_value.append(precision_score(y_test,pred))\n",
    "    elif(type_pred == 'f1'):\n",
    "      predicted_value.append(f1_score(y_test,pred))\n",
    "  return predicted_value.index(max(predicted_value)),max(predicted_value)"
   ]
  },
  {
   "cell_type": "code",
   "execution_count": null,
   "metadata": {
    "colab": {
     "base_uri": "https://localhost:8080/"
    },
    "id": "A_eZO1LQVNJD",
    "outputId": "098707d6-a376-44c7-a7e7-9dd865a23486"
   },
   "outputs": [],
   "source": [
    "best_accuracy = finding_max(list_pred,y_test,'accuracy')\n",
    "best_accuracy_s = finding_max(list_pred_s,ys_test,'accuracy')\n",
    "\n",
    "best_recall = finding_max(list_pred,y_test,'recall')\n",
    "best_recall_s = finding_max(list_pred_s,ys_test,'recall')\n",
    "\n",
    "best_precision = finding_max(list_pred,y_test,'precision')\n",
    "best_precision_s = finding_max(list_pred_s,ys_test,'precision')\n",
    "\n",
    "best_f1 = finding_max(list_pred,y_test,'f1')\n",
    "best_f1_s = finding_max(list_pred_s,ys_test,'f1')\n",
    "\n",
    "print('====================================')\n",
    "print('Model yang di-training tanpa SMOTE')\n",
    "print('====================================')\n",
    "print(f'Model yang memiliki Accuracy Score tinggi adalah {list_model[best_accuracy[0]]} dengan nilai accuracy Score {best_accuracy[1]}')\n",
    "print(f'Model yang memiliki Precision Score tinggi adalah {list_model[best_precision[0]]} dengan nilai precision Score {best_precision[1]}')\n",
    "print(f'Model yang memiliki Recall Score tinggi adalah {list_model[best_recall[0]]} dengan nilai recall Score {best_recall[1]}')\n",
    "print(f'Model yang memiliki F1 Score tinggi adalah {list_model[best_f1[0]]} dengan nilai F1 Score {best_f1[1]}')\n",
    "print('\\n')\n",
    "print('====================================')\n",
    "print('Model yang di-training dengan SMOTE')\n",
    "print('====================================')\n",
    "print(f'Model yang memiliki Accuracy Score tinggi adalah {list_model[best_accuracy_s[0]]} dengan nilai accuracy Score {best_accuracy_s[1]}')\n",
    "print(f'Model yang memiliki Precision Score tinggi adalah {list_model[best_precision_s[0]]} dengan nilai precision Score {best_precision_s[1]}')\n",
    "print(f'Model yang memiliki Recall Score tinggi adalah {list_model[best_recall_s[0]]} dengan nilai recall Score {best_recall_s[1]}')\n",
    "print(f'Model yang memiliki F1 Score tinggi adalah {list_model[best_f1_s[0]]} dengan nilai F1 Score {best_f1_s[1]}')"
   ]
  },
  {
   "cell_type": "markdown",
   "metadata": {
    "id": "kHKOAHGTr8PR"
   },
   "source": [
    "# Model Inference"
   ]
  },
  {
   "cell_type": "code",
   "execution_count": null,
   "metadata": {
    "id": "T2ak7tIYbzUl"
   },
   "outputs": [],
   "source": [
    "# age=float(input('age :'))\n",
    "# anaemia=int(input('anaemia :'))\n",
    "# creatinine_phosphokinase=int(input('creatinine_phosphokinase :'))\n",
    "# diabetes=int(input('diabetes :'))\n",
    "# high_blood_pressure=int(input('high_blood_pressure :'))\n",
    "# platelets=float(input('platelets : '))\n",
    "# serum_creatinine=float(input('serum_creatinine :'))\n",
    "# sex=int(input('sex :'))\n",
    "# smoking=int(input('smoking :'))\n",
    "# young_person = int(input('young_person :'))\n",
    "\n",
    "# x_input=[[\n",
    "#     age,\n",
    "#     anaemia,\n",
    "#     creatinine_phosphokinase,\n",
    "#     diabetes,\n",
    "#     high_blood_pressure,\n",
    "#     platelets,\n",
    "#     serum_creatinine,\n",
    "#     sex,\n",
    "#     smoking,\n",
    "#     young_person\n",
    "# ]]\n",
    "\n",
    "# x_input=scaler.fit_transform(x_input)\n",
    "# y_output=bag_clf_s.predict(x_input)\n",
    "# if y_output==0:\n",
    "#     print('tidak meninggal')\n",
    "# else:\n",
    "#     print('meninggal')"
   ]
  },
  {
   "cell_type": "code",
   "execution_count": null,
   "metadata": {
    "id": "Cz7DmPuHtQiH"
   },
   "outputs": [],
   "source": [
    "pickle.dump(extra_tree_s,open('model_ETC.pkl','wb'))"
   ]
  },
  {
   "cell_type": "markdown",
   "metadata": {
    "id": "WPK5kdjYr9jC"
   },
   "source": [
    "# Kesimpulan"
   ]
  },
  {
   "cell_type": "markdown",
   "metadata": {
    "id": "N4ugGMQggjYM"
   },
   "source": [
    "Kesimpulan yang didapatkan dari analisis data adalah \n",
    "\n",
    "* Sebesar 67.89% kematian terjadi akibat penyakit jantung. Penyakit jantung sendiri banyak terjadi untuk pasien berjenis kelamin laki-laki.\n",
    "\n",
    "* Model **Extra Tree Classifier** dengan SMOTE memiliki akurasi tinggi sebesar 82.9% sehingga model tersebut sudah tepat untuk memprediksi keselamatan pasien penyakit jantung"
   ]
  }
 ],
 "metadata": {
  "colab": {
   "collapsed_sections": [
    "MTm5SfO7mbnA"
   ],
   "provenance": [],
   "toc_visible": true
  },
  "kernelspec": {
   "display_name": "Python 3 (ipykernel)",
   "language": "python",
   "name": "python3"
  },
  "language_info": {
   "codemirror_mode": {
    "name": "ipython",
    "version": 3
   },
   "file_extension": ".py",
   "mimetype": "text/x-python",
   "name": "python",
   "nbconvert_exporter": "python",
   "pygments_lexer": "ipython3",
   "version": "3.11.5"
  },
  "vscode": {
   "interpreter": {
    "hash": "5635f01f6723548a44e59762d240475e398c84287ad3cc5a0d49d4e3f046325e"
   }
  }
 },
 "nbformat": 4,
 "nbformat_minor": 4
}
