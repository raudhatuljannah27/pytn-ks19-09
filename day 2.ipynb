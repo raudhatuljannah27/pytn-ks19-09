{
 "cells": [
  {
   "cell_type": "code",
   "execution_count": 9,
   "id": "b1bfd336-e0b4-41a3-b246-f831fe7201ba",
   "metadata": {},
   "outputs": [
    {
     "data": {
      "text/plain": [
       "True"
      ]
     },
     "execution_count": 9,
     "metadata": {},
     "output_type": "execute_result"
    }
   ],
   "source": [
    "a = 2\n",
    "b = 2\n",
    "\n",
    "a == b\n",
    "a != b\n",
    "a > b\n",
    "a >= b\n",
    "a <= b\n",
    "a <= b"
   ]
  },
  {
   "cell_type": "code",
   "execution_count": 11,
   "id": "04e0936b-c951-430a-aed1-5b925a0dc6f5",
   "metadata": {},
   "outputs": [
    {
     "name": "stdout",
     "output_type": "stream",
     "text": [
      "Ya\n",
      "a lebih besar atau sama dengan b\n"
     ]
    }
   ],
   "source": [
    "if a == b:\n",
    "    print(\"Ya\")\n",
    "\n",
    "if a > b:\n",
    "    print(\"a besar dari b\")\n",
    "\n",
    "if a >= b:\n",
    "    print(\"a lebih besar atau sama dengan b\")\n",
    "    "
   ]
  },
  {
   "cell_type": "code",
   "execution_count": 16,
   "id": "5b2c6889-96be-4040-a3a2-ccf2fd8c7340",
   "metadata": {},
   "outputs": [
    {
     "name": "stdout",
     "output_type": "stream",
     "text": [
      "Ya\n",
      "a dan b sama\n",
      "paling bawah\n"
     ]
    }
   ],
   "source": [
    "a = 2\n",
    "b = 3\n",
    "if a != b:\n",
    "    print(\"Ya\")\n",
    "    print(\"a dan b sama\")\n",
    "else:\n",
    "    print('jalankan else')\n",
    "\n",
    "\n",
    "print(\"paling bawah\")"
   ]
  },
  {
   "cell_type": "code",
   "execution_count": 7,
   "id": "57f193e2-d4bc-4163-9709-7cd21f51c992",
   "metadata": {},
   "outputs": [
    {
     "name": "stdout",
     "output_type": "stream",
     "text": [
      "uang kamu cukup untuk membeli buku\n"
     ]
    }
   ],
   "source": [
    "harga_buku = 15000\n",
    "harga_majalah = 35000\n",
    "uang = 15000\n",
    "\n",
    "if uang > harga_majalah:\n",
    "    print(\"uang kamu cukup untuk membeli majalah\")\n",
    "elif uang >= harga_buku:\n",
    "    print(\"uang kamu cukup untuk membeli buku\")\n",
    "elif uang == harga_buku:\n",
    "    print(\"uang kamu cukup untuk membeli buku, dan habis.\")\n",
    "# else:\n",
    "#     print(\"uang kamu tidak cukup untuk berbelanja. nabung lagi ya\")\n"
   ]
  },
  {
   "cell_type": "code",
   "execution_count": 10,
   "id": "9fad0e2a-3e6a-41c0-a2cf-4923ce9f281f",
   "metadata": {},
   "outputs": [
    {
     "name": "stdout",
     "output_type": "stream",
     "text": [
      "1 kecil dari 2\n",
      "1 kecil dari 2\n"
     ]
    }
   ],
   "source": [
    "if 1 < 2:\n",
    "    print('1 kecil dari 2')\n",
    "if 2 == 1:\n",
    "    print('2 sama dengan 1')\n",
    "elif 1 < 2:\n",
    "    print('1 kecil dari 2')"
   ]
  },
  {
   "cell_type": "code",
   "execution_count": 11,
   "id": "9805d56d-e7bd-4587-b438-39ccc0306c28",
   "metadata": {},
   "outputs": [
    {
     "name": "stdout",
     "output_type": "stream",
     "text": [
      "ada\n",
      "a\n",
      "dalam\n",
      "bara\n"
     ]
    }
   ],
   "source": [
    "if 'a' in 'bara': print('ada');print('a');print('dalam');print('bara')"
   ]
  },
  {
   "cell_type": "code",
   "execution_count": 17,
   "id": "0d810104-3d59-455e-a490-5f7d0042376d",
   "metadata": {},
   "outputs": [
    {
     "data": {
      "text/plain": [
       "2"
      ]
     },
     "execution_count": 17,
     "metadata": {},
     "output_type": "execute_result"
    }
   ],
   "source": [
    "a"
   ]
  },
  {
   "cell_type": "code",
   "execution_count": 21,
   "id": "64229ec4-6c3b-4120-9a3b-5d67b615c834",
   "metadata": {},
   "outputs": [
    {
     "name": "stdout",
     "output_type": "stream",
     "text": [
      "adik saya ada 2\n"
     ]
    }
   ],
   "source": [
    "print(\"adik saya ada\", a)"
   ]
  },
  {
   "cell_type": "code",
   "execution_count": 23,
   "id": "50967a91-cefc-4d31-b1ea-96c75936c2df",
   "metadata": {},
   "outputs": [
    {
     "name": "stdout",
     "output_type": "stream",
     "text": [
      "let's go to the library\n"
     ]
    }
   ],
   "source": [
    "raining = True\n",
    "print(\"let's go to the\", 'beach' if not raining else 'library')"
   ]
  },
  {
   "cell_type": "code",
   "execution_count": 24,
   "id": "d2049c27-a68c-4d66-9fd4-6459ff4ee06b",
   "metadata": {},
   "outputs": [
    {
     "data": {
      "text/plain": [
       "3"
      ]
     },
     "execution_count": 24,
     "metadata": {},
     "output_type": "execute_result"
    }
   ],
   "source": [
    "m = a if a > b else b\n",
    "m"
   ]
  },
  {
   "cell_type": "code",
   "execution_count": 25,
   "id": "2e764e04-6223-4025-8931-6b1069d4e241",
   "metadata": {},
   "outputs": [
    {
     "name": "stdout",
     "output_type": "stream",
     "text": [
      "foto\n"
     ]
    }
   ],
   "source": [
    "if True:\n",
    "    pass\n",
    "elif True:\n",
    "    print('y')\n",
    "\n",
    "print('foto')"
   ]
  },
  {
   "cell_type": "code",
   "execution_count": 29,
   "id": "b1783657-bd95-40c2-9b3e-bbb1f28f3129",
   "metadata": {},
   "outputs": [],
   "source": [
    "n = n -1\n",
    "n += 1"
   ]
  },
  {
   "cell_type": "code",
   "execution_count": 32,
   "id": "eb23c2a1-2c7d-4d68-ba1a-9665b36e647c",
   "metadata": {},
   "outputs": [
    {
     "name": "stdout",
     "output_type": "stream",
     "text": [
      "4\n",
      "3\n",
      "1\n",
      "0\n",
      "ada yang salah\n",
      "ini print di luar loop\n"
     ]
    }
   ],
   "source": [
    "n = 5\n",
    "while n > 0:\n",
    "    n -= 1\n",
    "\n",
    "    if n == 2:\n",
    "        continue\n",
    "\n",
    "    print(n)\n",
    "else:\n",
    "    print('ada yang salah')\n",
    "\n",
    "print('ini print di luar loop')"
   ]
  },
  {
   "cell_type": "code",
   "execution_count": 34,
   "id": "c602850b-a7a9-4706-95ae-2b58bb0787cc",
   "metadata": {},
   "outputs": [
    {
     "data": {
      "text/plain": [
       "dict_items([('foo', 1), ('bar', 2), ('buzz', 3)])"
      ]
     },
     "execution_count": 34,
     "metadata": {},
     "output_type": "execute_result"
    }
   ],
   "source": [
    "a = {'foo':1, 'bar':2, 'buzz':3}\n",
    "# for i in a.values():\n",
    "#     print(i)\n",
    "\n",
    "a.items()"
   ]
  },
  {
   "cell_type": "code",
   "execution_count": 35,
   "id": "8536351b-ecf5-4857-8cdf-4655e54aecf2",
   "metadata": {},
   "outputs": [
    {
     "name": "stdout",
     "output_type": "stream",
     "text": [
      "<class 'range'>\n"
     ]
    }
   ],
   "source": [
    "print(type(range(5)))"
   ]
  },
  {
   "cell_type": "code",
   "execution_count": 36,
   "id": "00330602-9601-4ad5-9847-4d2b2cafbd6c",
   "metadata": {},
   "outputs": [
    {
     "name": "stdout",
     "output_type": "stream",
     "text": [
      "20\n",
      "19\n",
      "18\n",
      "17\n",
      "16\n"
     ]
    }
   ],
   "source": [
    "#          start,stop,step\n",
    "for i in range(20,1,-1):\n",
    "    if i == 15:\n",
    "        break\n",
    "    print(i)\n",
    "else:\n",
    "    print('mantap')"
   ]
  },
  {
   "cell_type": "code",
   "execution_count": 37,
   "id": "ba4563d0-d2fc-486d-89c8-83e582e89fc1",
   "metadata": {},
   "outputs": [
    {
     "name": "stdout",
     "output_type": "stream",
     "text": [
      "4\n",
      "3\n"
     ]
    }
   ],
   "source": [
    "a = 5\n",
    "while a > 0:\n",
    "    a -= 1\n",
    "    if a == 2:\n",
    "        break\n",
    "    print(a)\n",
    "else:\n",
    "    print('selesai')"
   ]
  },
  {
   "cell_type": "code",
   "execution_count": 39,
   "id": "520db903-d9d6-4755-96cb-b6b9aa725585",
   "metadata": {},
   "outputs": [
    {
     "name": "stdin",
     "output_type": "stream",
     "text": [
      "berapa umur kamu? 10\n"
     ]
    },
    {
     "name": "stdout",
     "output_type": "stream",
     "text": [
      "12\n",
      "tipe data umur adalah <class 'str'>\n",
      "tipe data umur_int adalah <class 'int'>\n"
     ]
    }
   ],
   "source": [
    "umur = input('berapa umur kamu?')\n",
    "umur_int = int(umur)\n",
    "print(umur_int + 2)\n",
    "\n",
    "print('tipe data umur adalah', type(umur))\n",
    "print('tipe data umur_int adalah', type(umur_int))"
   ]
  },
  {
   "cell_type": "code",
   "execution_count": 58,
   "id": "ddccac6c-a375-434e-a6ba-9fc2a71b4cf3",
   "metadata": {},
   "outputs": [
    {
     "name": "stdin",
     "output_type": "stream",
     "text": [
      "ketikkan temperatur yang ingin dikonversi, eg. 45f, 120c:  100C\n"
     ]
    },
    {
     "name": "stdout",
     "output_type": "stream",
     "text": [
      "Temperaturnya adalah 212 derajat\n"
     ]
    }
   ],
   "source": [
    "temp = input(\"ketikkan temperatur yang ingin dikonversi, eg. 45f, 120c: \")\n",
    "degree = int (temp[:-1])\n",
    "i_convertion = temp[-1]\n",
    "\n",
    "if i_convertion == \"C\":\n",
    "    result = int(round ((9* degree) /5 + 32))\n",
    "elif i_convertion == \"F\":\n",
    "    result = int(round ((degree - 32) * 5/9))\n",
    "else:\n",
    "    print(\"Masukan input yang benar\")\n",
    "\n",
    "print(\"Temperaturnya adalah\", result, \"derajat\")"
   ]
  },
  {
   "cell_type": "code",
   "execution_count": 51,
   "id": "289719ac-ea89-444c-a7e1-b1aa10363429",
   "metadata": {},
   "outputs": [
    {
     "name": "stdin",
     "output_type": "stream",
     "text": [
      "Ketikkan temperatur yang ingin dikonversi, contoh: 30F, 120C:  30F\n"
     ]
    },
    {
     "name": "stdout",
     "output_type": "stream",
     "text": [
      "Suhu hasil konversi adalah 86 derajat Fahrenheit\n"
     ]
    }
   ],
   "source": [
    "temp = input(\"Ketikkan temperatur yang ingin dikonversi, contoh: 30F, 120C: \")\n",
    "degree = int(temp[:-1])\n",
    "i_konversi = temp[-1]\n",
    "\n",
    "if i_konversi == \"C\":\n",
    "    result = int(round((degree - 32) * 5 / 9))\n",
    "    print(\"Suhu hasil konversi adalah\", result, \"derajat Celsius\")\n",
    "elif i_konversi == \"F\":\n",
    "    result = int(round((9 * degree) / 5 + 32))\n",
    "    print(\"Suhu hasil konversi adalah\", result, \"derajat Fahrenheit\")\n",
    "else:\n",
    "    print(\"Masukkan input yang benar\")"
   ]
  },
  {
   "cell_type": "code",
   "execution_count": 60,
   "id": "0b83376e-974b-4f5e-bbfe-62f5b97e3044",
   "metadata": {},
   "outputs": [
    {
     "name": "stdin",
     "output_type": "stream",
     "text": [
      "Ketikkan temperatur yang ingin dikonversi, eg. 45f, 120c:  45F\n"
     ]
    },
    {
     "name": "stdout",
     "output_type": "stream",
     "text": [
      "Suhu dalam Celsius adalah 7 derajat Celsius\n",
      "Jenis suhu yang dikonversi adalah F\n"
     ]
    }
   ],
   "source": [
    "temp = input(\"Ketikkan temperatur yang ingin dikonversi, eg. 45f, 120c: \")\n",
    "degree = int(temp[:-1])\n",
    "i_conversion = temp[-1]\n",
    "result = 0  # Inisialisasi result dengan nilai default\n",
    "\n",
    "if i_conversion == \"C\":\n",
    "    result = int(round((9 * degree) / 5 + 32))\n",
    "    print(f\"Suhu dalam Fahrenheit adalah {result} derajat Fahrenheit\")\n",
    "elif i_conversion == \"F\":\n",
    "    result = int(round((degree - 32) * 5 / 9))\n",
    "    print(f\"Suhu dalam Celsius adalah {result} derajat Celsius\")\n",
    "else:\n",
    "    print(\"Masukkan input yang benar\")\n",
    "\n",
    "# Mencetak jenis suhu (Celsius atau Fahrenheit)\n",
    "if result != 0:\n",
    "    print(f\"Jenis suhu yang dikonversi adalah {i_conversion}\")"
   ]
  },
  {
   "cell_type": "code",
   "execution_count": 62,
   "id": "e2346354-a251-4dc7-a684-627bde6af058",
   "metadata": {},
   "outputs": [
    {
     "name": "stdin",
     "output_type": "stream",
     "text": [
      "masukkan password kamu kamu\n"
     ]
    },
    {
     "name": "stdout",
     "output_type": "stream",
     "text": [
      "password yang kamu masukkan salah\n"
     ]
    },
    {
     "name": "stdin",
     "output_type": "stream",
     "text": [
      "masukkan password kamu hactive8\n"
     ]
    }
   ],
   "source": [
    "while True:\n",
    "    password = input('masukkan password kamu')\n",
    "\n",
    "    if password == 'hactive8':\n",
    "        break\n",
    "    else:\n",
    "        print('password yang kamu masukkan salah')"
   ]
  },
  {
   "cell_type": "code",
   "execution_count": null,
   "id": "8f50f55e-a8c1-4475-8d97-237988502e35",
   "metadata": {},
   "outputs": [],
   "source": []
  }
 ],
 "metadata": {
  "kernelspec": {
   "display_name": "Python 3 (ipykernel)",
   "language": "python",
   "name": "python3"
  },
  "language_info": {
   "codemirror_mode": {
    "name": "ipython",
    "version": 3
   },
   "file_extension": ".py",
   "mimetype": "text/x-python",
   "name": "python",
   "nbconvert_exporter": "python",
   "pygments_lexer": "ipython3",
   "version": "3.11.5"
  }
 },
 "nbformat": 4,
 "nbformat_minor": 5
}
