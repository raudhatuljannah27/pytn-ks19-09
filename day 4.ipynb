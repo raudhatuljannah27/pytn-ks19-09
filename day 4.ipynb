{
 "cells": [
  {
   "cell_type": "code",
   "execution_count": 6,
   "id": "9013a212-cf0f-40b6-8505-927a349f0fc7",
   "metadata": {},
   "outputs": [],
   "source": [
    "import numpy as np"
   ]
  },
  {
   "cell_type": "code",
   "execution_count": 7,
   "id": "cf848c90-6024-4c40-a127-b77c84e91029",
   "metadata": {},
   "outputs": [
    {
     "data": {
      "text/plain": [
       "array([1, 2, 3])"
      ]
     },
     "execution_count": 7,
     "metadata": {},
     "output_type": "execute_result"
    }
   ],
   "source": [
    "# making array\n",
    "a = np.array([1,2,3])\n",
    "a"
   ]
  },
  {
   "cell_type": "code",
   "execution_count": 29,
   "id": "9ca473a3-452e-4c89-87d3-78f5a8346e20",
   "metadata": {},
   "outputs": [
    {
     "data": {
      "text/plain": [
       "array([5, 6, 7, 8, 9])"
      ]
     },
     "execution_count": 29,
     "metadata": {},
     "output_type": "execute_result"
    }
   ],
   "source": [
    "# making array of zeros\n",
    "np.zeros(6)\n",
    "\n",
    "# making array of ones\n",
    "np.ones(6)\n",
    "\n",
    "# making random array \n",
    "np.empty(3, order='F')\n",
    "\n",
    "# making array with range\n",
    "cth = np.arange(5,10)\n",
    "cth\n"
   ]
  },
  {
   "cell_type": "code",
   "execution_count": 30,
   "id": "aae8f056-3df2-46ad-a7a3-4bc06711141d",
   "metadata": {},
   "outputs": [
    {
     "data": {
      "text/plain": [
       "array([5, 6, 7, 8, 9])"
      ]
     },
     "execution_count": 30,
     "metadata": {},
     "output_type": "execute_result"
    }
   ],
   "source": [
    "# appending 2 or more array\n",
    "np.append(cth, [1,2])\n",
    "\n",
    "# deleting element of array by index\n",
    "np.delete(cth, 0)\n",
    "\n",
    "# cth = np.append(cth, [1,2,10])\n",
    "np.sort(cth)"
   ]
  },
  {
   "cell_type": "code",
   "execution_count": 31,
   "id": "62e5b3ab-5169-48dc-bab9-4fcfd661065c",
   "metadata": {},
   "outputs": [
    {
     "name": "stdout",
     "output_type": "stream",
     "text": [
      "[[[0 1 2 3]\n",
      "  [4 5 6 7]]\n",
      "\n",
      " [[0 1 2 3]\n",
      "  [4 5 6 7]]\n",
      "\n",
      " [[0 1 2 3]\n",
      "  [4 5 6 7]]]\n"
     ]
    }
   ],
   "source": [
    "# multi dimension array\n",
    "array_example = np.array([\n",
    "    [   [0,1,2,3],\n",
    "        [4,5,6,7]],\n",
    "    [   [0,1,2,3],\n",
    "        [4,5,6,7]],\n",
    "    [   [0,1,2,3],\n",
    "        [4,5,6,7]],\n",
    "])\n",
    "print(array_example)"
   ]
  },
  {
   "cell_type": "code",
   "execution_count": 34,
   "id": "99c2642a-6858-494f-aaa3-4e76cedfe01c",
   "metadata": {},
   "outputs": [
    {
     "name": "stdout",
     "output_type": "stream",
     "text": [
      "3\n",
      "24\n",
      "(3, 2, 4)\n"
     ]
    }
   ],
   "source": [
    "# show array dimension\n",
    "print(array_example.ndim)\n",
    "\n",
    "# show array total element\n",
    "print(array_example.size)\n",
    "\n",
    "# show array total element\n",
    "print(array_example.shape)"
   ]
  },
  {
   "cell_type": "code",
   "execution_count": 35,
   "id": "c483c5fc-0d4c-4786-bda3-c05ac5c3cfea",
   "metadata": {},
   "outputs": [
    {
     "data": {
      "text/plain": [
       "8"
      ]
     },
     "execution_count": 35,
     "metadata": {},
     "output_type": "execute_result"
    }
   ],
   "source": [
    "array_example = np.array(\n",
    "   [   [0,1,2,3],\n",
    "       [4,5,6,7]],\n",
    ")\n",
    "array_example.shape\n",
    "array_example.ndim\n",
    "array_example.size"
   ]
  },
  {
   "cell_type": "code",
   "execution_count": 36,
   "id": "f8b3e67f-3307-4ec0-8218-0c3f1810a8d9",
   "metadata": {},
   "outputs": [
    {
     "data": {
      "text/plain": [
       "array([[ 0],\n",
       "       [ 1],\n",
       "       [ 2],\n",
       "       [ 3],\n",
       "       [ 4],\n",
       "       [ 5],\n",
       "       [ 6],\n",
       "       [ 7],\n",
       "       [ 8],\n",
       "       [ 9],\n",
       "       [10],\n",
       "       [11],\n",
       "       [12],\n",
       "       [13],\n",
       "       [14],\n",
       "       [15]])"
      ]
     },
     "execution_count": 36,
     "metadata": {},
     "output_type": "execute_result"
    }
   ],
   "source": [
    "a = np.arange(16)\n",
    "# reshaping an array\n",
    "b = a.reshape(16,1)\n",
    "b"
   ]
  },
  {
   "cell_type": "code",
   "execution_count": 37,
   "id": "d5ea78ba-d048-49e1-b491-e55f44ea85a9",
   "metadata": {},
   "outputs": [
    {
     "data": {
      "text/plain": [
       "array([ 0,  1,  2,  3,  4,  5,  6,  7,  8,  9, 10, 11, 12, 13, 14, 15])"
      ]
     },
     "metadata": {},
     "output_type": "display_data"
    },
    {
     "data": {
      "text/plain": [
       "array([[ 0,  1,  2,  3,  4,  5,  6,  7,  8,  9, 10, 11, 12, 13, 14, 15]])"
      ]
     },
     "metadata": {},
     "output_type": "display_data"
    },
    {
     "data": {
      "text/plain": [
       "array([[[ 0,  1,  2,  3,  4,  5,  6,  7,  8,  9, 10, 11, 12, 13, 14, 15]]])"
      ]
     },
     "metadata": {},
     "output_type": "display_data"
    },
    {
     "data": {
      "text/plain": [
       "array([[ 0],\n",
       "       [ 1],\n",
       "       [ 2],\n",
       "       [ 3],\n",
       "       [ 4],\n",
       "       [ 5],\n",
       "       [ 6],\n",
       "       [ 7],\n",
       "       [ 8],\n",
       "       [ 9],\n",
       "       [10],\n",
       "       [11],\n",
       "       [12],\n",
       "       [13],\n",
       "       [14],\n",
       "       [15]])"
      ]
     },
     "execution_count": 37,
     "metadata": {},
     "output_type": "execute_result"
    }
   ],
   "source": [
    "display(a)\n",
    "\n",
    "# add a dimension to an existing array\n",
    "a2 = a[np.newaxis]\n",
    "display(a2)\n",
    "a3 = a2[np.newaxis]\n",
    "display(a3)\n",
    "\n",
    "row_vector = a[:,np.newaxis]\n",
    "row_vector"
   ]
  },
  {
   "cell_type": "code",
   "execution_count": 38,
   "id": "ab2d98b5-50f4-407e-8295-0d8c1c1da207",
   "metadata": {},
   "outputs": [
    {
     "data": {
      "text/plain": [
       "array([0, 1, 2, 3, 4])"
      ]
     },
     "metadata": {},
     "output_type": "display_data"
    },
    {
     "data": {
      "text/plain": [
       "(5,)"
      ]
     },
     "metadata": {},
     "output_type": "display_data"
    },
    {
     "data": {
      "text/plain": [
       "array([[0, 1, 2, 3, 4]])"
      ]
     },
     "metadata": {},
     "output_type": "display_data"
    },
    {
     "data": {
      "text/plain": [
       "(1, 5)"
      ]
     },
     "metadata": {},
     "output_type": "display_data"
    }
   ],
   "source": [
    "a = np.arange(5)\n",
    "display(a)\n",
    "display(a.shape)\n",
    "\n",
    "# expanding dimension\n",
    "b = np.expand_dims(a, axis=0)\n",
    "display(b)\n",
    "display(b.shape)"
   ]
  },
  {
   "cell_type": "code",
   "execution_count": 39,
   "id": "431bc5e5-45e6-4891-ad1f-d0f5025b6673",
   "metadata": {},
   "outputs": [
    {
     "data": {
      "text/plain": [
       "array([0, 1, 2, 3, 4])"
      ]
     },
     "execution_count": 39,
     "metadata": {},
     "output_type": "execute_result"
    }
   ],
   "source": [
    "a"
   ]
  },
  {
   "cell_type": "code",
   "execution_count": 40,
   "id": "f136e7b7-de62-487f-ad0f-93d7741251b2",
   "metadata": {},
   "outputs": [
    {
     "name": "stdout",
     "output_type": "stream",
     "text": [
      "2\n",
      "[0 1 2]\n",
      "[4 3 2 1 0]\n",
      "[3 4]\n"
     ]
    }
   ],
   "source": [
    "# slicing array by index\n",
    "print(a[2])\n",
    "print(a[:3])\n",
    "print(a[::-1])\n",
    "print(a[-2:])"
   ]
  },
  {
   "cell_type": "code",
   "execution_count": 41,
   "id": "6e5d5423-b266-404c-a891-e896d449b415",
   "metadata": {},
   "outputs": [
    {
     "data": {
      "text/plain": [
       "array([[0, 1, 2, 3],\n",
       "       [4, 5, 6, 7]])"
      ]
     },
     "execution_count": 41,
     "metadata": {},
     "output_type": "execute_result"
    }
   ],
   "source": [
    "array_example"
   ]
  },
  {
   "cell_type": "code",
   "execution_count": 42,
   "id": "06aa0bf2-4605-493b-8f39-32d6c946f06a",
   "metadata": {},
   "outputs": [
    {
     "data": {
      "text/plain": [
       "array([5, 6, 7])"
      ]
     },
     "execution_count": 42,
     "metadata": {},
     "output_type": "execute_result"
    }
   ],
   "source": [
    "# slicing array with condition\n",
    "array_example[array_example >= 5]"
   ]
  },
  {
   "cell_type": "code",
   "execution_count": 43,
   "id": "8f2ea4f2-9c21-4366-a3d4-270fba9f7ae7",
   "metadata": {},
   "outputs": [
    {
     "data": {
      "text/plain": [
       "array([5, 6, 7])"
      ]
     },
     "execution_count": 43,
     "metadata": {},
     "output_type": "execute_result"
    }
   ],
   "source": [
    "five_up = (array_example >= 5)\n",
    "array_example[five_up]"
   ]
  },
  {
   "cell_type": "code",
   "execution_count": 44,
   "id": "790f314d-a2b3-4f34-96a5-bc0305a18dad",
   "metadata": {},
   "outputs": [
    {
     "data": {
      "text/plain": [
       "array([0, 2, 4, 6])"
      ]
     },
     "execution_count": 44,
     "metadata": {},
     "output_type": "execute_result"
    }
   ],
   "source": [
    "array_example[array_example%2==0]"
   ]
  },
  {
   "cell_type": "code",
   "execution_count": 45,
   "id": "f8eedc10-13d1-47d2-9f61-a435c4b2506a",
   "metadata": {},
   "outputs": [
    {
     "data": {
      "text/plain": [
       "array([0, 2, 4, 5, 6, 7])"
      ]
     },
     "execution_count": 45,
     "metadata": {},
     "output_type": "execute_result"
    }
   ],
   "source": [
    "# slicing using and\n",
    "array_example[(array_example%2==0) & (array_example > 3)]\n",
    "# slicing using or\n",
    "array_example[(array_example%2==0) | (array_example > 3)]"
   ]
  },
  {
   "cell_type": "code",
   "execution_count": 46,
   "id": "59c1e584-b075-4e98-8692-5a3fd9ae2aae",
   "metadata": {},
   "outputs": [
    {
     "data": {
      "text/plain": [
       "array([4, 5, 6, 7, 8])"
      ]
     },
     "execution_count": 46,
     "metadata": {},
     "output_type": "execute_result"
    }
   ],
   "source": [
    "a = np.arange(1,11)\n",
    "b = a[3:8]\n",
    "b"
   ]
  },
  {
   "cell_type": "code",
   "execution_count": 47,
   "id": "379ec908-3a79-4bb5-915b-01b0b4047a9c",
   "metadata": {},
   "outputs": [],
   "source": [
    "a1 = np.array(\n",
    "   [   [0,1,],\n",
    "       [4,5,]])\n",
    "a2 = np.array(\n",
    "   [   [2,3,],\n",
    "       [6,7,]])"
   ]
  },
  {
   "cell_type": "code",
   "execution_count": 48,
   "id": "134b9159-f352-4acf-a409-629e025b9bef",
   "metadata": {},
   "outputs": [
    {
     "data": {
      "text/plain": [
       "array([[0, 1],\n",
       "       [4, 5],\n",
       "       [2, 3],\n",
       "       [6, 7]])"
      ]
     },
     "execution_count": 48,
     "metadata": {},
     "output_type": "execute_result"
    }
   ],
   "source": [
    "# stacking vertically\n",
    "np.vstack((a1, a2))"
   ]
  },
  {
   "cell_type": "code",
   "execution_count": 50,
   "id": "12b5e5a2-8526-47fa-a121-76bea40eb3b8",
   "metadata": {},
   "outputs": [
    {
     "data": {
      "text/plain": [
       "array([[0, 1, 2, 3],\n",
       "       [4, 5, 6, 7]])"
      ]
     },
     "execution_count": 50,
     "metadata": {},
     "output_type": "execute_result"
    }
   ],
   "source": [
    "# stacking horizontally\n",
    "np.hstack((a1, a2))"
   ]
  },
  {
   "cell_type": "code",
   "execution_count": 51,
   "id": "a6e2e7db-2c23-4db4-8d52-3aa583156d56",
   "metadata": {},
   "outputs": [
    {
     "data": {
      "text/plain": [
       "array([ 1,  2,  3,  4,  5,  6,  7,  8,  9, 10])"
      ]
     },
     "metadata": {},
     "output_type": "display_data"
    },
    {
     "data": {
      "text/plain": [
       "array([[ 1,  2,  3,  4,  5,  6,  7,  8,  9, 10],\n",
       "       [ 1,  2,  3,  4,  5,  6,  7,  8,  9, 10]])"
      ]
     },
     "execution_count": 51,
     "metadata": {},
     "output_type": "execute_result"
    }
   ],
   "source": [
    "display(a)\n",
    "a2 = a[np.newaxis]\n",
    "a4 = np.vstack((a2,a2))\n",
    "a4"
   ]
  },
  {
   "cell_type": "code",
   "execution_count": 52,
   "id": "eaf34f2a-2d8b-41f2-9da2-c47e640c487a",
   "metadata": {},
   "outputs": [
    {
     "data": {
      "text/plain": [
       "[array([[1, 2],\n",
       "        [1, 2]]),\n",
       " array([[3, 4],\n",
       "        [3, 4]]),\n",
       " array([[5, 6],\n",
       "        [5, 6]]),\n",
       " array([[7, 8],\n",
       "        [7, 8]]),\n",
       " array([[ 9, 10],\n",
       "        [ 9, 10]])]"
      ]
     },
     "execution_count": 52,
     "metadata": {},
     "output_type": "execute_result"
    }
   ],
   "source": [
    "# splitting array horizontally\n",
    "np.hsplit(a4, 5)"
   ]
  },
  {
   "cell_type": "code",
   "execution_count": 53,
   "id": "ff8b1748-fd5b-4cf5-ae85-6e396f1b80af",
   "metadata": {},
   "outputs": [
    {
     "data": {
      "text/plain": [
       "array([[ 1,  2,  3,  4],\n",
       "       [ 5,  6,  7,  8],\n",
       "       [ 9, 10, 11, 12]])"
      ]
     },
     "execution_count": 53,
     "metadata": {},
     "output_type": "execute_result"
    }
   ],
   "source": [
    "a = np.array([[1,2,3,4],[5,6,7,8],[9,10,11,12]])\n",
    "a"
   ]
  },
  {
   "cell_type": "code",
   "execution_count": 54,
   "id": "168f5bfe-bd36-4fb4-8acd-9ce127d103b6",
   "metadata": {},
   "outputs": [
    {
     "data": {
      "text/plain": [
       "array([[ 1,  2,  3,  4],\n",
       "       [ 5,  6,  7,  8],\n",
       "       [ 9, 10, 11, 12]])"
      ]
     },
     "execution_count": 54,
     "metadata": {},
     "output_type": "execute_result"
    }
   ],
   "source": [
    "b = a.view()\n",
    "b"
   ]
  },
  {
   "cell_type": "code",
   "execution_count": 55,
   "id": "c59510cd-d9bb-4f6f-b17c-586ccff2fcc0",
   "metadata": {},
   "outputs": [
    {
     "data": {
      "text/plain": [
       "array([[ 1,  2,  3,  4],\n",
       "       [ 5,  6,  7,  8],\n",
       "       [ 9, 10, 11, 12]])"
      ]
     },
     "execution_count": 55,
     "metadata": {},
     "output_type": "execute_result"
    }
   ],
   "source": [
    "c = a.copy()\n",
    "c"
   ]
  },
  {
   "cell_type": "code",
   "execution_count": 56,
   "id": "a3faee3a-319e-4894-b396-cb4cdc9df16b",
   "metadata": {},
   "outputs": [
    {
     "name": "stdout",
     "output_type": "stream",
     "text": [
      "[0 1 2]\n",
      "[4 5 6]\n",
      "[4 6 8]\n",
      "[-4 -4 -4]\n",
      "[ 0  5 12]\n",
      "[0.         0.2        0.33333333]\n"
     ]
    }
   ],
   "source": [
    "a = np.arange(3)\n",
    "b = np.arange(4,7)\n",
    "print(a)\n",
    "print(b)\n",
    "\n",
    "# basic array operations\n",
    "print(a + b)\n",
    "print(a - b)\n",
    "print(a * b)\n",
    "print(a / b)"
   ]
  },
  {
   "cell_type": "code",
   "execution_count": 57,
   "id": "65b34658-6496-42be-8c8c-5a853a790d15",
   "metadata": {},
   "outputs": [
    {
     "data": {
      "text/plain": [
       "array([[[ 0,  1,  2,  3,  4,  5,  6,  7,  8,  9, 10, 11, 12, 13, 14, 15]]])"
      ]
     },
     "execution_count": 57,
     "metadata": {},
     "output_type": "execute_result"
    }
   ],
   "source": [
    "a3"
   ]
  },
  {
   "cell_type": "code",
   "execution_count": 59,
   "id": "8eb99054-c89a-4297-b3b9-efee108bf1a2",
   "metadata": {},
   "outputs": [
    {
     "data": {
      "text/plain": [
       "120"
      ]
     },
     "execution_count": 59,
     "metadata": {},
     "output_type": "execute_result"
    }
   ],
   "source": [
    "a3.sum()"
   ]
  },
  {
   "cell_type": "code",
   "execution_count": 60,
   "id": "eca42e72-e72c-4007-b5f2-e788e15424c8",
   "metadata": {},
   "outputs": [
    {
     "data": {
      "text/plain": [
       "array([[ 1,  2,  3,  4],\n",
       "       [ 5,  6,  7,  8],\n",
       "       [ 9, 10, 11, 12]])"
      ]
     },
     "execution_count": 60,
     "metadata": {},
     "output_type": "execute_result"
    }
   ],
   "source": [
    "c"
   ]
  },
  {
   "cell_type": "code",
   "execution_count": 61,
   "id": "b9789229-e4c4-456a-9ed6-3c5a2c05ad32",
   "metadata": {},
   "outputs": [
    {
     "name": "stdout",
     "output_type": "stream",
     "text": [
      "[15 18 21 24]\n",
      "[10 26 42]\n"
     ]
    }
   ],
   "source": [
    "# sum with axic\n",
    "print(c.sum(axis = 0))\n",
    "print(c.sum(axis = 1))"
   ]
  },
  {
   "cell_type": "code",
   "execution_count": 62,
   "id": "7838cda5-f4b6-40f1-8bb1-5386398f4d14",
   "metadata": {},
   "outputs": [
    {
     "name": "stdout",
     "output_type": "stream",
     "text": [
      "[0 1 2]\n",
      "[0.  1.6 3.2]\n"
     ]
    }
   ],
   "source": [
    "print(a)\n",
    "print(a * 1.6)"
   ]
  },
  {
   "cell_type": "code",
   "execution_count": 67,
   "id": "7c9bdac6-6ae9-4ee7-b1a0-278bc391fe92",
   "metadata": {},
   "outputs": [
    {
     "ename": "UFuncTypeError",
     "evalue": "ufunc 'multiply' did not contain a loop with signature matching types (dtype('<U11'), dtype('int32')) -> None",
     "output_type": "error",
     "traceback": [
      "\u001b[1;31m---------------------------------------------------------------------------\u001b[0m",
      "\u001b[1;31mUFuncTypeError\u001b[0m                            Traceback (most recent call last)",
      "Cell \u001b[1;32mIn[67], line 3\u001b[0m\n\u001b[0;32m      1\u001b[0m \u001b[38;5;66;03m# error\u001b[39;00m\n\u001b[0;32m      2\u001b[0m z \u001b[38;5;241m=\u001b[39m np\u001b[38;5;241m.\u001b[39marray([\u001b[38;5;241m1\u001b[39m,\u001b[38;5;241m2\u001b[39m,\u001b[38;5;124m'\u001b[39m\u001b[38;5;124mz\u001b[39m\u001b[38;5;124m'\u001b[39m])\n\u001b[1;32m----> 3\u001b[0m \u001b[43mz\u001b[49m\u001b[43m \u001b[49m\u001b[38;5;241;43m*\u001b[39;49m\u001b[38;5;241;43m15\u001b[39;49m\n",
      "\u001b[1;31mUFuncTypeError\u001b[0m: ufunc 'multiply' did not contain a loop with signature matching types (dtype('<U11'), dtype('int32')) -> None"
     ]
    }
   ],
   "source": [
    "# error\n",
    "z = np.array([1,2,'z'])\n",
    "z *15"
   ]
  },
  {
   "cell_type": "code",
   "execution_count": 68,
   "id": "8f98b4d6-c390-48ee-b39c-0336c077d797",
   "metadata": {},
   "outputs": [
    {
     "data": {
      "text/plain": [
       "array([[ 1,  2,  3,  4],\n",
       "       [ 5,  6,  7,  8],\n",
       "       [ 9, 10, 11, 12]])"
      ]
     },
     "execution_count": 68,
     "metadata": {},
     "output_type": "execute_result"
    }
   ],
   "source": [
    "c"
   ]
  },
  {
   "cell_type": "code",
   "execution_count": 69,
   "id": "8b287fbf-5b53-475c-8611-0c4e08352bc2",
   "metadata": {},
   "outputs": [
    {
     "name": "stdout",
     "output_type": "stream",
     "text": [
      "1\n",
      "12\n",
      "78\n",
      "3.452052529534663\n",
      "[1 5 9]\n",
      "[ 9 10 11 12]\n"
     ]
    }
   ],
   "source": [
    "print(c.min())\n",
    "print(c.max())\n",
    "print(c.sum())\n",
    "print(c.std())\n",
    "print(c.min(axis = 1))\n",
    "print(c.max(axis = 0))"
   ]
  },
  {
   "cell_type": "code",
   "execution_count": 73,
   "id": "91cdcfb4-30e9-4749-befb-50827785de3d",
   "metadata": {},
   "outputs": [
    {
     "name": "stdout",
     "output_type": "stream",
     "text": [
      "[[0. 0.]\n",
      " [0. 0.]\n",
      " [0. 0.]\n",
      " [0. 0.]\n",
      " [0. 0.]\n",
      " [0. 0.]]\n",
      "[[1. 1.]\n",
      " [1. 1.]\n",
      " [1. 1.]\n",
      " [1. 1.]\n",
      " [1. 1.]\n",
      " [1. 1.]]\n",
      "[[0.97702491 0.62154795]\n",
      " [0.44436066 0.39694734]\n",
      " [0.29919348 0.94823872]\n",
      " [0.82467889 0.93184497]\n",
      " [0.35503468 0.44076157]\n",
      " [0.2719708  0.98054535]]\n"
     ]
    }
   ],
   "source": [
    "# making matrix \n",
    "z = np.zeros((6,2))\n",
    "o = np.ones((6,2))\n",
    "r = np.random.random((6,2))\n",
    "print(z)\n",
    "print(o)\n",
    "print(r)"
   ]
  },
  {
   "cell_type": "code",
   "execution_count": 75,
   "id": "810cddca-7d99-4b7d-bf4f-aca2be680fcb",
   "metadata": {},
   "outputs": [
    {
     "data": {
      "text/plain": [
       "array([[1.97702491, 1.62154795],\n",
       "       [1.44436066, 1.39694734],\n",
       "       [1.29919348, 1.94823872],\n",
       "       [1.82467889, 1.93184497],\n",
       "       [1.35503468, 1.44076157],\n",
       "       [1.2719708 , 1.98054535]])"
      ]
     },
     "execution_count": 75,
     "metadata": {},
     "output_type": "execute_result"
    }
   ],
   "source": [
    "r+o"
   ]
  },
  {
   "cell_type": "code",
   "execution_count": 77,
   "id": "0f741f2f-5efb-4020-b760-aabb8640d9cf",
   "metadata": {},
   "outputs": [
    {
     "name": "stdout",
     "output_type": "stream",
     "text": [
      "[[0 1]\n",
      " [4 5]\n",
      " [7 8]]\n",
      "[[0 1 2]\n",
      " [4 5 6]]\n"
     ]
    }
   ],
   "source": [
    "a1 = np.array([[0,1],[4,5],[7,8]])\n",
    "print(a1)\n",
    "a2 = np.array([[0,1,2],[4,5,6]])\n",
    "print(a2)"
   ]
  },
  {
   "cell_type": "code",
   "execution_count": 80,
   "id": "8f8a8eb7-4179-4735-8726-22c286ae82ed",
   "metadata": {},
   "outputs": [
    {
     "data": {
      "text/plain": [
       "array([[ 4,  5,  6],\n",
       "       [20, 29, 38],\n",
       "       [32, 47, 62]])"
      ]
     },
     "execution_count": 80,
     "metadata": {},
     "output_type": "execute_result"
    }
   ],
   "source": [
    "np.dot(a1,a2)"
   ]
  },
  {
   "cell_type": "code",
   "execution_count": 87,
   "id": "26bc54fb-fe2a-4c02-a4d0-44daed12e1e2",
   "metadata": {},
   "outputs": [
    {
     "name": "stdout",
     "output_type": "stream",
     "text": [
      "[[1 2]\n",
      " [3 4]\n",
      " [5 6]]\n",
      "[1 2]\n",
      "[5 6]\n",
      "[[1 2]\n",
      " [3 4]]\n",
      "2\n",
      "2\n"
     ]
    }
   ],
   "source": [
    "# slicing matrix\n",
    "a1 = np.array([[1,2],[3,4], [5,6]])\n",
    "print(a1)\n",
    "print(a1[0])\n",
    "print(a1[2])\n",
    "print(a1[0:2])\n",
    "print(a1[0,1])\n",
    "print(a1[0][1])"
   ]
  },
  {
   "cell_type": "code",
   "execution_count": 88,
   "id": "876f5e63-d896-461a-bbf6-f042e43607e3",
   "metadata": {},
   "outputs": [
    {
     "data": {
      "text/plain": [
       "array([[1, 2],\n",
       "       [3, 4],\n",
       "       [5, 6]])"
      ]
     },
     "metadata": {},
     "output_type": "display_data"
    },
    {
     "name": "stdout",
     "output_type": "stream",
     "text": [
      "(3, 2)\n",
      "[[1 3 5]\n",
      " [2 4 6]]\n",
      "(2, 3)\n"
     ]
    }
   ],
   "source": [
    "# transforming shape\n",
    "display(a1)\n",
    "print(a1.shape)\n",
    "print(a1.T)\n",
    "print(a1.T.shape)"
   ]
  },
  {
   "cell_type": "code",
   "execution_count": 89,
   "id": "023cc642-a3f3-47c1-bfe3-9f874aa35a4c",
   "metadata": {},
   "outputs": [],
   "source": [
    "a = np.arange(6)"
   ]
  },
  {
   "cell_type": "code",
   "execution_count": 90,
   "id": "bf04c6fd-ff3f-44d0-b321-cbc39bfee9cd",
   "metadata": {},
   "outputs": [
    {
     "data": {
      "text/plain": [
       "array([[0],\n",
       "       [1],\n",
       "       [2],\n",
       "       [3],\n",
       "       [4],\n",
       "       [5]])"
      ]
     },
     "execution_count": 90,
     "metadata": {},
     "output_type": "execute_result"
    }
   ],
   "source": [
    "a2 = a[np.newaxis]\n",
    "a2.T"
   ]
  },
  {
   "cell_type": "code",
   "execution_count": 91,
   "id": "63866dcf-ea73-479d-93e8-558d245bb008",
   "metadata": {},
   "outputs": [
    {
     "data": {
      "text/plain": [
       "array([[0, 1, 2],\n",
       "       [3, 4, 5]])"
      ]
     },
     "execution_count": 91,
     "metadata": {},
     "output_type": "execute_result"
    }
   ],
   "source": [
    "a3 = a2.reshape(-1,3)\n",
    "a3"
   ]
  },
  {
   "cell_type": "code",
   "execution_count": 92,
   "id": "009faad8-0498-40c5-b8e1-ab71fd264554",
   "metadata": {},
   "outputs": [
    {
     "name": "stdout",
     "output_type": "stream",
     "text": [
      "[0 1 2 3 4 5]\n",
      "[0 2 3 4 5]\n",
      "[[0 1 2]\n",
      " [3 4 5]]\n"
     ]
    }
   ],
   "source": [
    "# flatten multidimension array into 1D array\n",
    "a4 = a3.flatten()\n",
    "print(a4)\n",
    "print(np.delete(a4, 1))\n",
    "print(a3)"
   ]
  },
  {
   "cell_type": "code",
   "execution_count": 93,
   "id": "224f9c20-a84d-4e06-b055-d06cf9ae5a3c",
   "metadata": {},
   "outputs": [
    {
     "name": "stdout",
     "output_type": "stream",
     "text": [
      "[0 1 2 3 4 5]\n",
      "[0 2 3 4 5]\n",
      "[[0 1 2]\n",
      " [3 4 5]]\n"
     ]
    }
   ],
   "source": [
    "a4 = a3.ravel()\n",
    "print(a4)\n",
    "print(np.delete(a4, 1))\n",
    "print(a3)"
   ]
  },
  {
   "cell_type": "code",
   "execution_count": null,
   "id": "77352b3c-cd5f-4ef4-97b5-230748ae9bd2",
   "metadata": {},
   "outputs": [],
   "source": []
  }
 ],
 "metadata": {
  "kernelspec": {
   "display_name": "Python 3 (ipykernel)",
   "language": "python",
   "name": "python3"
  },
  "language_info": {
   "codemirror_mode": {
    "name": "ipython",
    "version": 3
   },
   "file_extension": ".py",
   "mimetype": "text/x-python",
   "name": "python",
   "nbconvert_exporter": "python",
   "pygments_lexer": "ipython3",
   "version": "3.11.5"
  }
 },
 "nbformat": 4,
 "nbformat_minor": 5
}
